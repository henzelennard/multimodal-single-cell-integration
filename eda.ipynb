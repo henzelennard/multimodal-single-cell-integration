{
 "cells": [
  {
   "cell_type": "markdown",
   "metadata": {},
   "source": [
    "![MmSCel Logo](https://storage.googleapis.com/kaggle-competitions/kaggle/38128/logos/header.png?t=2022-08-08-22-48-50)\n",
    "\n",
    "\n",
    "<div style=\"color:white;display:fill;\n",
    "            background-color:#3bb2d6;font-size:250%;\">\n",
    "    <p style=\"padding: 4px;text-align: center;color:white;\"><b>Complete EDA of MmSCel Integration Data</b></p>\n",
    "    <p style=\"padding: 4px;text-align:center; color:white;\"><b>Table of contents</b></p>\n",
    "</div> \n",
    "\n",
    "1. [Intro](#1)\n",
    "2. [What data is collected](#2)\n",
    "    1. [Data from Multiome Test](#21)\n",
    "        1. [Chromatin accessibility data](#211)\n",
    "        2. [Gene Expression Data](#212)\n",
    "    2. [Data from CITEseq test](#22)\n",
    "        1. [Gene Expression Data](#221)\n",
    "        2. [Surface Protein Level Data](#222)\n",
    "3. [How is data collected](#3)\n",
    "4. [Data centric view](#4)\n",
    "    1. [Chromatin Accessibility](#41)\n",
    "    2. [Gene Expression](#42)\n",
    "        1. [From Multiome](#421)\n",
    "        2. [From CITEseq](#422)\n",
    "    3. [Surface Protein Levels](#43)\n",
    "5. [How to Submit to competition](#5)"
   ]
  },
  {
   "cell_type": "code",
   "execution_count": 1,
   "metadata": {
    "_kg_hide-input": true,
    "_kg_hide-output": true
   },
   "outputs": [],
   "source": [
    "# sys and util\n",
    "import os\n",
    "import gc\n",
    "from tqdm.auto import tqdm\n",
    "import random\n",
    "import re\n",
    "\n",
    "# data\n",
    "import numpy as np\n",
    "import pandas as pd\n",
    "\n",
    "# visualization\n",
    "import matplotlib.pyplot as plt\n",
    "import seaborn as sns\n",
    "sns.set_theme()\n",
    "\n",
    "# set paths\n",
    "DATA_DIR = os.environ['DATA_DIR']\n",
    "FP_CELL_METADATA = os.path.join(DATA_DIR,\"metadata.csv\")\n",
    "\n",
    "FP_CITE_TRAIN_INPUTS = os.path.join(DATA_DIR,\"train_cite_inputs.h5\")\n",
    "FP_CITE_TRAIN_TARGETS = os.path.join(DATA_DIR,\"train_cite_targets.h5\")\n",
    "FP_CITE_TEST_INPUTS = os.path.join(DATA_DIR,\"test_cite_inputs.h5\")\n",
    "\n",
    "FP_MULTIOME_TRAIN_INPUTS = os.path.join(DATA_DIR,\"train_multi_inputs.h5\")\n",
    "FP_MULTIOME_TRAIN_TARGETS = os.path.join(DATA_DIR,\"train_multi_targets.h5\")\n",
    "FP_MULTIOME_TEST_INPUTS = os.path.join(DATA_DIR,\"test_multi_inputs.h5\")\n",
    "\n",
    "FP_SUBMISSION = os.path.join(DATA_DIR,\"sample_submission.csv\")\n",
    "FP_EVALUATION_IDS = os.path.join(DATA_DIR,\"evaluation_ids.csv\")"
   ]
  },
  {
   "cell_type": "markdown",
   "metadata": {},
   "source": [
    "# 1 Intro <a id=\"1\"></a>\n",
    "\n",
    "The goal of this competition is to better understand the relationship between different modalities in cells. The goal of this notebook is to gain a better understanding of the associated data. This equips us with the knowledge needed to make good decisions about model design and data layout.\n",
    "\n",
    "**This is a work in progress. If any aspect needs clarification, please let me know. My understanding of genetics is very limited. Feel free to point out anything that is false.**\n",
    "\n",
    "During transcription in cells, there is a known **flow of information**. DNA must be accessible to produce RNA. Produced RNA is used as a template to build proteins. Therefore, one could assume that we can use knowledge about the accessibility of DNA to predict future states of RNA and that we can use knowledge about RNA to predict the concentration of proteins in the future. In this challenge, we want to learn more about this relationship between DNA, RNA, and proteins. We thus need to capture information about three distinct properties of a cell:\n",
    "* chromatin accessibility (DNA)\n",
    "* gene expression (RNA)\n",
    "* surface protein levels\n",
    "\n",
    "Before we have a look at how the information about those properties of a cell is laid out, we must note that the methods used to obtain the data do not capture all properties at once. **We have two distinct methods for testing**. The first one is the \"10x Chromium Single Cell Multiome ATAC + Gene Expression\" short \"multiome\" test. The second one is the \"10x Genomics Single Cell Gene Expression with Feature Barcoding technology\" short \"citeseq\" test.\n",
    "\n",
    "With the multiome test, we can measure **chromatin accessibility and gene expression**. With the citeseq test, we can measure **gene expression and surface protein levels**. Therefore, we will have data about chromatin accessibility and surface protein levels once (from multiome and citeseq, respectively). And we will have data about gene expression two times, once from each test.\n",
    "\n",
    "To get a better understanding of the data we will look at it from 3 perspectives. The first thing we will look at is, what data is actually collected. Questions we will adress here are: How many measurments do we get from each cell? How to interpret the measurements we have? How accurate is the data collected? This can be thought of as a biological view of the problem and is the main focus of **chapter two**. We will not go into details here how the general data landscape looks like.\n",
    "\n",
    "The **third chapter** will look at how the data is collected. The focus of this chapter will be the metadata file. Questions of concern will be: On what days was the data collected? What different Splits do we obtain? How much data is in each split?\n",
    "\n",
    "After having an understanding of the collection methods and results of the collection process we will have a look at the outcome of the collection. Namely the different datasets or splits, we are presented with. We will look at the properties of the splits as a whole and compute well known statistics about them. All of this can be found in **chapter four**.\n",
    "\n",
    "This notebook will be concluded with the **final chapter** on necessary details to compete in the competition. We will have a look at what data needs to be submitted and in what format it has to be submitted.\n",
    "\n",
    "\n",
    "# 2 What Data is collected <a id=\"2\"></a>\n",
    "\n",
    "Let's zoom in at what data is actually collected. As we already mentioned in the introduction we have two different test methods that each measure two modalities of the introspected cell. Therefore we have four measurments in total. Each of those four measurments receives its own subchapter. We will start witht the measurments from the multiome test and than look at the data from the citeseq test.\n",
    "\n",
    "<a id=\"21\"></a><div style=\"color:white;display:fill;\n",
    "            background-color:#3bb2d6;font-size:200%;\">\n",
    "    <p style=\"padding: 4px;color:white;\"><b>2.A Data from Multiome test</b></p>\n",
    "</div> \n",
    "\n",
    "The first two measurments we are looking at are obtained by the multiome test. Multiome test is short for **Chromium Single Cell Multiome ATAC + Gene Expression**. As the name of the test suggest we get measurments for ATAC (assay for transpoase-accessible chromatin) and for Gene Expression Data. The tests are done by the Company 10x Genomics. The description of the test can be found [here](https://www.10xgenomics.com/products/single-cell-multiome-atac-plus-gene-expression). The test has a single cell resolution. That means every data point we obtain can be mapped to a single cell.\n",
    "\n",
    "<a id=\"211\"></a><div style=\"color:white;display:fill;\n",
    "            background-color:#3bb2d6;font-size:150%;\">\n",
    "    <p style=\"padding: 4px;color:white;\"><b>2.A.a Chromatin accessibility data</b></p>\n",
    "</div>\n",
    "\n",
    "First we will have a look at the Chromatin Accessibility data, since that's also the first data in the information flow of a cell. Here we will just be concerened with a single data point and look at what data is measured. Below you see the ATAC data obtained by multiome for a single cell."
   ]
  },
  {
   "cell_type": "code",
   "execution_count": 2,
   "metadata": {},
   "outputs": [
    {
     "data": {
      "text/html": [
       "<div>\n",
       "<style scoped>\n",
       "    .dataframe tbody tr th:only-of-type {\n",
       "        vertical-align: middle;\n",
       "    }\n",
       "\n",
       "    .dataframe tbody tr th {\n",
       "        vertical-align: top;\n",
       "    }\n",
       "\n",
       "    .dataframe thead th {\n",
       "        text-align: right;\n",
       "    }\n",
       "</style>\n",
       "<table border=\"1\" class=\"dataframe\">\n",
       "  <thead>\n",
       "    <tr style=\"text-align: right;\">\n",
       "      <th>gene_id</th>\n",
       "      <th>GL000194.1:114519-115365</th>\n",
       "      <th>GL000194.1:55758-56597</th>\n",
       "      <th>GL000194.1:58217-58957</th>\n",
       "      <th>GL000194.1:59535-60431</th>\n",
       "      <th>GL000195.1:119766-120427</th>\n",
       "      <th>GL000195.1:120736-121603</th>\n",
       "      <th>GL000195.1:137437-138345</th>\n",
       "      <th>GL000195.1:15901-16653</th>\n",
       "      <th>GL000195.1:22357-23209</th>\n",
       "      <th>GL000195.1:23751-24619</th>\n",
       "      <th>...</th>\n",
       "      <th>chrY:7722278-7723128</th>\n",
       "      <th>chrY:7723971-7724880</th>\n",
       "      <th>chrY:7729854-7730772</th>\n",
       "      <th>chrY:7731785-7732664</th>\n",
       "      <th>chrY:7810142-7811040</th>\n",
       "      <th>chrY:7814107-7815018</th>\n",
       "      <th>chrY:7818751-7819626</th>\n",
       "      <th>chrY:7836768-7837671</th>\n",
       "      <th>chrY:7869454-7870371</th>\n",
       "      <th>chrY:7873814-7874709</th>\n",
       "    </tr>\n",
       "    <tr>\n",
       "      <th>cell_id</th>\n",
       "      <th></th>\n",
       "      <th></th>\n",
       "      <th></th>\n",
       "      <th></th>\n",
       "      <th></th>\n",
       "      <th></th>\n",
       "      <th></th>\n",
       "      <th></th>\n",
       "      <th></th>\n",
       "      <th></th>\n",
       "      <th></th>\n",
       "      <th></th>\n",
       "      <th></th>\n",
       "      <th></th>\n",
       "      <th></th>\n",
       "      <th></th>\n",
       "      <th></th>\n",
       "      <th></th>\n",
       "      <th></th>\n",
       "      <th></th>\n",
       "      <th></th>\n",
       "    </tr>\n",
       "  </thead>\n",
       "  <tbody>\n",
       "    <tr>\n",
       "      <th>56390cf1b95e</th>\n",
       "      <td>0.0</td>\n",
       "      <td>0.0</td>\n",
       "      <td>0.0</td>\n",
       "      <td>0.0</td>\n",
       "      <td>0.0</td>\n",
       "      <td>0.0</td>\n",
       "      <td>0.0</td>\n",
       "      <td>0.0</td>\n",
       "      <td>0.0</td>\n",
       "      <td>0.0</td>\n",
       "      <td>...</td>\n",
       "      <td>0.0</td>\n",
       "      <td>0.0</td>\n",
       "      <td>0.0</td>\n",
       "      <td>0.0</td>\n",
       "      <td>0.0</td>\n",
       "      <td>4.428336</td>\n",
       "      <td>0.0</td>\n",
       "      <td>0.0</td>\n",
       "      <td>0.0</td>\n",
       "      <td>0.0</td>\n",
       "    </tr>\n",
       "  </tbody>\n",
       "</table>\n",
       "<p>1 rows × 228942 columns</p>\n",
       "</div>"
      ],
      "text/plain": [
       "gene_id       GL000194.1:114519-115365  GL000194.1:55758-56597  \\\n",
       "cell_id                                                          \n",
       "56390cf1b95e                       0.0                     0.0   \n",
       "\n",
       "gene_id       GL000194.1:58217-58957  GL000194.1:59535-60431  \\\n",
       "cell_id                                                        \n",
       "56390cf1b95e                     0.0                     0.0   \n",
       "\n",
       "gene_id       GL000195.1:119766-120427  GL000195.1:120736-121603  \\\n",
       "cell_id                                                            \n",
       "56390cf1b95e                       0.0                       0.0   \n",
       "\n",
       "gene_id       GL000195.1:137437-138345  GL000195.1:15901-16653  \\\n",
       "cell_id                                                          \n",
       "56390cf1b95e                       0.0                     0.0   \n",
       "\n",
       "gene_id       GL000195.1:22357-23209  GL000195.1:23751-24619  ...  \\\n",
       "cell_id                                                       ...   \n",
       "56390cf1b95e                     0.0                     0.0  ...   \n",
       "\n",
       "gene_id       chrY:7722278-7723128  chrY:7723971-7724880  \\\n",
       "cell_id                                                    \n",
       "56390cf1b95e                   0.0                   0.0   \n",
       "\n",
       "gene_id       chrY:7729854-7730772  chrY:7731785-7732664  \\\n",
       "cell_id                                                    \n",
       "56390cf1b95e                   0.0                   0.0   \n",
       "\n",
       "gene_id       chrY:7810142-7811040  chrY:7814107-7815018  \\\n",
       "cell_id                                                    \n",
       "56390cf1b95e                   0.0              4.428336   \n",
       "\n",
       "gene_id       chrY:7818751-7819626  chrY:7836768-7837671  \\\n",
       "cell_id                                                    \n",
       "56390cf1b95e                   0.0                   0.0   \n",
       "\n",
       "gene_id       chrY:7869454-7870371  chrY:7873814-7874709  \n",
       "cell_id                                                   \n",
       "56390cf1b95e                   0.0                   0.0  \n",
       "\n",
       "[1 rows x 228942 columns]"
      ]
     },
     "execution_count": 2,
     "metadata": {},
     "output_type": "execute_result"
    }
   ],
   "source": [
    "df_multi_train_x = pd.read_hdf(FP_MULTIOME_TRAIN_INPUTS,start=0,stop=1)\n",
    "df_multi_train_x"
   ]
  },
  {
   "cell_type": "markdown",
   "metadata": {},
   "source": [
    "As we can see, each individual cell is identified by a cell_id in this case \"56390cf1b95e\". We then have 228942 measurments for each cell that are named something like \"STUFF:NUMBER-NUMBER\". STUFF is actually the name of a chromosome. Let's have a look at what kind of chromosomes we have:\n",
    "\n"
   ]
  },
  {
   "cell_type": "code",
   "execution_count": 3,
   "metadata": {},
   "outputs": [
    {
     "name": "stdout",
     "output_type": "stream",
     "text": [
      "['GL000194.1', 'GL000195.1', 'GL000205.2', 'GL000218.1', 'GL000219.1', 'KI270711.1', 'KI270713.1', 'KI270721.1', 'KI270726.1', 'KI270727.1', 'KI270728.1', 'KI270731.1', 'KI270734.1', 'chr1', 'chr10', 'chr11', 'chr12', 'chr13', 'chr14', 'chr15', 'chr16', 'chr17', 'chr18', 'chr19', 'chr2', 'chr20', 'chr21', 'chr22', 'chr3', 'chr4', 'chr5', 'chr6', 'chr7', 'chr8', 'chr9', 'chrX', 'chrY']\n"
     ]
    }
   ],
   "source": [
    "print(sorted(list({i[:i.find(':')] for i in df_multi_train_x.columns})))"
   ]
  },
  {
   "cell_type": "markdown",
   "metadata": {},
   "source": [
    "We actually find the chromosomes we expect, namely chr1-chr22, the 22 chromosomes humans have (called autosomes), and also chrX and chrY, being the gender-specific chromosomes. What about the ones starting with KI and GL? According to a quick internet search, those are unplaced genes. They most likely are part of the human genome, but we don't know yet on which chromosome they are. \n",
    "\n",
    "What about the numbers after the chromosome name? These numbers identify a certain region on that chromosome. These regions are called peaks and multiple peaks can contribute to the same gene. For a nice and short introduction check out this [5 min Youtube Video on ATAC sequencing.](https://www.youtube.com/watch?v=uuxpyhGNDsk)\n",
    "\n",
    "I want to look into three things in further detail:\n",
    "* Why do we obtain numbers as floats? From what I understand so far, I would expect the data to be binary. Whether a peak is accessible or not.\n",
    "* Can peak regions actually overlap? From the method explained in the video, I would assume not, but this needs to be checked.\n",
    "* If multiple peaks contribute to a single gene, the assumption is obvious that if one peak is accessible, neighboring peaks are likely accessible as well. Is this the case?"
   ]
  },
  {
   "cell_type": "markdown",
   "metadata": {},
   "source": [
    "<a id=\"212\"></a><div style=\"color:white;display:fill;\n",
    "            background-color:#3bb2d6;font-size:150%;\">\n",
    "    <p style=\"padding: 4px;color:white;\"><b>2.A.b Gene Expression Data</b></p>\n",
    "</div>\n",
    "\n",
    "The mere presence of a genome in a cell does not alter that cell or the organism that it is part of. The information in the genome must be \"interpreted\" in order for any change to take place. In other words, a gene's information is employed to create a functioning gene product. Either a protein or non-coding RNA might be this. The most fundamental method of converting genomic information into gene products is called gene expression. The information about the genes that are active in a particular cell or the regions of the genome that are involved in the function of the cell may be inferred from the gene expression data we are utilizing for this challenge. An example of that data for the cell 56390cf1b95e is provided below."
   ]
  },
  {
   "cell_type": "code",
   "execution_count": 4,
   "metadata": {},
   "outputs": [
    {
     "name": "stdout",
     "output_type": "stream",
     "text": [
      "Different starts of names: ['ENSG000000', 'ENSG000001', 'ENSG000002']\n",
      "Different lengths of names: 1\n"
     ]
    },
    {
     "data": {
      "text/html": [
       "<div>\n",
       "<style scoped>\n",
       "    .dataframe tbody tr th:only-of-type {\n",
       "        vertical-align: middle;\n",
       "    }\n",
       "\n",
       "    .dataframe tbody tr th {\n",
       "        vertical-align: top;\n",
       "    }\n",
       "\n",
       "    .dataframe thead th {\n",
       "        text-align: right;\n",
       "    }\n",
       "</style>\n",
       "<table border=\"1\" class=\"dataframe\">\n",
       "  <thead>\n",
       "    <tr style=\"text-align: right;\">\n",
       "      <th>gene_id</th>\n",
       "      <th>ENSG00000121410</th>\n",
       "      <th>ENSG00000268895</th>\n",
       "      <th>ENSG00000175899</th>\n",
       "      <th>ENSG00000245105</th>\n",
       "      <th>ENSG00000166535</th>\n",
       "      <th>ENSG00000256661</th>\n",
       "      <th>ENSG00000184389</th>\n",
       "      <th>ENSG00000128274</th>\n",
       "      <th>ENSG00000094914</th>\n",
       "      <th>ENSG00000081760</th>\n",
       "      <th>...</th>\n",
       "      <th>ENSG00000086827</th>\n",
       "      <th>ENSG00000174442</th>\n",
       "      <th>ENSG00000122952</th>\n",
       "      <th>ENSG00000198205</th>\n",
       "      <th>ENSG00000198455</th>\n",
       "      <th>ENSG00000070476</th>\n",
       "      <th>ENSG00000203995</th>\n",
       "      <th>ENSG00000162378</th>\n",
       "      <th>ENSG00000159840</th>\n",
       "      <th>ENSG00000074755</th>\n",
       "    </tr>\n",
       "    <tr>\n",
       "      <th>cell_id</th>\n",
       "      <th></th>\n",
       "      <th></th>\n",
       "      <th></th>\n",
       "      <th></th>\n",
       "      <th></th>\n",
       "      <th></th>\n",
       "      <th></th>\n",
       "      <th></th>\n",
       "      <th></th>\n",
       "      <th></th>\n",
       "      <th></th>\n",
       "      <th></th>\n",
       "      <th></th>\n",
       "      <th></th>\n",
       "      <th></th>\n",
       "      <th></th>\n",
       "      <th></th>\n",
       "      <th></th>\n",
       "      <th></th>\n",
       "      <th></th>\n",
       "      <th></th>\n",
       "    </tr>\n",
       "  </thead>\n",
       "  <tbody>\n",
       "    <tr>\n",
       "      <th>56390cf1b95e</th>\n",
       "      <td>0.0</td>\n",
       "      <td>0.0</td>\n",
       "      <td>0.0</td>\n",
       "      <td>0.0</td>\n",
       "      <td>0.0</td>\n",
       "      <td>0.0</td>\n",
       "      <td>0.0</td>\n",
       "      <td>0.0</td>\n",
       "      <td>0.0</td>\n",
       "      <td>0.0</td>\n",
       "      <td>...</td>\n",
       "      <td>0.0</td>\n",
       "      <td>0.0</td>\n",
       "      <td>4.893861</td>\n",
       "      <td>0.0</td>\n",
       "      <td>0.0</td>\n",
       "      <td>0.0</td>\n",
       "      <td>0.0</td>\n",
       "      <td>5.583255</td>\n",
       "      <td>0.0</td>\n",
       "      <td>4.893861</td>\n",
       "    </tr>\n",
       "  </tbody>\n",
       "</table>\n",
       "<p>1 rows × 23418 columns</p>\n",
       "</div>"
      ],
      "text/plain": [
       "gene_id       ENSG00000121410  ENSG00000268895  ENSG00000175899  \\\n",
       "cell_id                                                           \n",
       "56390cf1b95e              0.0              0.0              0.0   \n",
       "\n",
       "gene_id       ENSG00000245105  ENSG00000166535  ENSG00000256661  \\\n",
       "cell_id                                                           \n",
       "56390cf1b95e              0.0              0.0              0.0   \n",
       "\n",
       "gene_id       ENSG00000184389  ENSG00000128274  ENSG00000094914  \\\n",
       "cell_id                                                           \n",
       "56390cf1b95e              0.0              0.0              0.0   \n",
       "\n",
       "gene_id       ENSG00000081760  ...  ENSG00000086827  ENSG00000174442  \\\n",
       "cell_id                        ...                                     \n",
       "56390cf1b95e              0.0  ...              0.0              0.0   \n",
       "\n",
       "gene_id       ENSG00000122952  ENSG00000198205  ENSG00000198455  \\\n",
       "cell_id                                                           \n",
       "56390cf1b95e         4.893861              0.0              0.0   \n",
       "\n",
       "gene_id       ENSG00000070476  ENSG00000203995  ENSG00000162378  \\\n",
       "cell_id                                                           \n",
       "56390cf1b95e              0.0              0.0         5.583255   \n",
       "\n",
       "gene_id       ENSG00000159840  ENSG00000074755  \n",
       "cell_id                                         \n",
       "56390cf1b95e              0.0         4.893861  \n",
       "\n",
       "[1 rows x 23418 columns]"
      ]
     },
     "execution_count": 4,
     "metadata": {},
     "output_type": "execute_result"
    }
   ],
   "source": [
    "df_multi_train_y = pd.read_hdf(FP_MULTIOME_TRAIN_TARGETS, start=0, stop=1)\n",
    "\n",
    "print(f\"Different starts of names: {sorted(list({i[:10] for i in df_multi_train_y.columns}))}\")\n",
    "print(f\"Different lengths of names: {len(df_multi_train_y.columns.str.len().unique())}\")\n",
    "\n",
    "df_multi_train_y"
   ]
  },
  {
   "cell_type": "markdown",
   "metadata": {},
   "source": [
    "As we can see, each ID begins with ENSG and is then followed by 5 zeroes. It is called Ensambl ID. The general form is ENS(species)(object type)(identifier).(version). ENS tells us that we are looking at an Ensembl ID. By convention, the species field for human genes is left blank. The object type for genes is G. The identifier appears to always be 11 decimal places long. Additionally, it appears that our data lacks any version specifications. \n",
    "\n",
    "I suggest viewing [this video](https://www.youtube.com/watch?v=bKIpDtJdK8Q) for a thorough explanation of the entire transcription and translation process we are exploring for this challenge. It provides a thorough summary of the role mRNA plays in the procedure. According to what I understand, each gene on the genome corresponds to an mRNA molecule, and the numbers in our dataset indicate how much mRNA for each corresponding gene is present in the sampled cell. More mRNA is indicated by higher values."
   ]
  },
  {
   "cell_type": "markdown",
   "metadata": {},
   "source": [
    "<a id=\"22\"></a><div style=\"color:white;display:fill;\n",
    "            background-color:#3bb2d6;font-size:200%;\">\n",
    "    <p style=\"padding: 4px;color:white;\"><b>2.B Data from CITEseq test</b></p>\n",
    "</div>\n",
    "\n",
    "By now we have quite a good understanding of what data can be obtained by the multiome test. Now we want to have a look at the **Single Cell Gene Expression with Feature Barcoding technology**, or short **CITEseq** test. The test data we are provided with is again from the company 10x Genomics. Information about the test can be found on the company's website [here](https://support.10xgenomics.com/permalink/getting-started-single-cell-gene-expression-with-feature-barcoding-technology). It is a test to \"reveal cell surface protein and gene expression from the same cell\". Since we are already familiar with gene expression data, let's first look at that."
   ]
  },
  {
   "cell_type": "markdown",
   "metadata": {},
   "source": [
    "<a id=\"221\"></a><div style=\"color:white;display:fill;\n",
    "            background-color:#3bb2d6;font-size:150%;\">\n",
    "    <p style=\"padding: 4px;color:white;\"><b>2.B.a Gene Expression Data</b></p>\n",
    "</div>\n",
    "\n",
    "We are again loading a single sample from the test set to get an idea about the features we are presented with:"
   ]
  },
  {
   "cell_type": "code",
   "execution_count": 5,
   "metadata": {},
   "outputs": [
    {
     "data": {
      "text/html": [
       "<div>\n",
       "<style scoped>\n",
       "    .dataframe tbody tr th:only-of-type {\n",
       "        vertical-align: middle;\n",
       "    }\n",
       "\n",
       "    .dataframe tbody tr th {\n",
       "        vertical-align: top;\n",
       "    }\n",
       "\n",
       "    .dataframe thead th {\n",
       "        text-align: right;\n",
       "    }\n",
       "</style>\n",
       "<table border=\"1\" class=\"dataframe\">\n",
       "  <thead>\n",
       "    <tr style=\"text-align: right;\">\n",
       "      <th>gene_id</th>\n",
       "      <th>ENSG00000121410_A1BG</th>\n",
       "      <th>ENSG00000268895_A1BG-AS1</th>\n",
       "      <th>ENSG00000175899_A2M</th>\n",
       "      <th>ENSG00000245105_A2M-AS1</th>\n",
       "      <th>ENSG00000166535_A2ML1</th>\n",
       "      <th>ENSG00000128274_A4GALT</th>\n",
       "      <th>ENSG00000094914_AAAS</th>\n",
       "      <th>ENSG00000081760_AACS</th>\n",
       "      <th>ENSG00000109576_AADAT</th>\n",
       "      <th>ENSG00000103591_AAGAB</th>\n",
       "      <th>...</th>\n",
       "      <th>ENSG00000153975_ZUP1</th>\n",
       "      <th>ENSG00000086827_ZW10</th>\n",
       "      <th>ENSG00000174442_ZWILCH</th>\n",
       "      <th>ENSG00000122952_ZWINT</th>\n",
       "      <th>ENSG00000198205_ZXDA</th>\n",
       "      <th>ENSG00000198455_ZXDB</th>\n",
       "      <th>ENSG00000070476_ZXDC</th>\n",
       "      <th>ENSG00000162378_ZYG11B</th>\n",
       "      <th>ENSG00000159840_ZYX</th>\n",
       "      <th>ENSG00000074755_ZZEF1</th>\n",
       "    </tr>\n",
       "    <tr>\n",
       "      <th>cell_id</th>\n",
       "      <th></th>\n",
       "      <th></th>\n",
       "      <th></th>\n",
       "      <th></th>\n",
       "      <th></th>\n",
       "      <th></th>\n",
       "      <th></th>\n",
       "      <th></th>\n",
       "      <th></th>\n",
       "      <th></th>\n",
       "      <th></th>\n",
       "      <th></th>\n",
       "      <th></th>\n",
       "      <th></th>\n",
       "      <th></th>\n",
       "      <th></th>\n",
       "      <th></th>\n",
       "      <th></th>\n",
       "      <th></th>\n",
       "      <th></th>\n",
       "      <th></th>\n",
       "    </tr>\n",
       "  </thead>\n",
       "  <tbody>\n",
       "    <tr>\n",
       "      <th>45006fe3e4c8</th>\n",
       "      <td>0.0</td>\n",
       "      <td>0.0</td>\n",
       "      <td>0.0</td>\n",
       "      <td>0.0</td>\n",
       "      <td>0.0</td>\n",
       "      <td>0.0</td>\n",
       "      <td>0.0</td>\n",
       "      <td>0.0</td>\n",
       "      <td>0.0</td>\n",
       "      <td>0.0</td>\n",
       "      <td>...</td>\n",
       "      <td>0.0</td>\n",
       "      <td>0.0</td>\n",
       "      <td>0.0</td>\n",
       "      <td>0.0</td>\n",
       "      <td>0.0</td>\n",
       "      <td>0.0</td>\n",
       "      <td>0.0</td>\n",
       "      <td>0.0</td>\n",
       "      <td>4.090185</td>\n",
       "      <td>0.0</td>\n",
       "    </tr>\n",
       "  </tbody>\n",
       "</table>\n",
       "<p>1 rows × 22050 columns</p>\n",
       "</div>"
      ],
      "text/plain": [
       "gene_id       ENSG00000121410_A1BG  ENSG00000268895_A1BG-AS1  \\\n",
       "cell_id                                                        \n",
       "45006fe3e4c8                   0.0                       0.0   \n",
       "\n",
       "gene_id       ENSG00000175899_A2M  ENSG00000245105_A2M-AS1  \\\n",
       "cell_id                                                      \n",
       "45006fe3e4c8                  0.0                      0.0   \n",
       "\n",
       "gene_id       ENSG00000166535_A2ML1  ENSG00000128274_A4GALT  \\\n",
       "cell_id                                                       \n",
       "45006fe3e4c8                    0.0                     0.0   \n",
       "\n",
       "gene_id       ENSG00000094914_AAAS  ENSG00000081760_AACS  \\\n",
       "cell_id                                                    \n",
       "45006fe3e4c8                   0.0                   0.0   \n",
       "\n",
       "gene_id       ENSG00000109576_AADAT  ENSG00000103591_AAGAB  ...  \\\n",
       "cell_id                                                     ...   \n",
       "45006fe3e4c8                    0.0                    0.0  ...   \n",
       "\n",
       "gene_id       ENSG00000153975_ZUP1  ENSG00000086827_ZW10  \\\n",
       "cell_id                                                    \n",
       "45006fe3e4c8                   0.0                   0.0   \n",
       "\n",
       "gene_id       ENSG00000174442_ZWILCH  ENSG00000122952_ZWINT  \\\n",
       "cell_id                                                       \n",
       "45006fe3e4c8                     0.0                    0.0   \n",
       "\n",
       "gene_id       ENSG00000198205_ZXDA  ENSG00000198455_ZXDB  \\\n",
       "cell_id                                                    \n",
       "45006fe3e4c8                   0.0                   0.0   \n",
       "\n",
       "gene_id       ENSG00000070476_ZXDC  ENSG00000162378_ZYG11B  \\\n",
       "cell_id                                                      \n",
       "45006fe3e4c8                   0.0                     0.0   \n",
       "\n",
       "gene_id       ENSG00000159840_ZYX  ENSG00000074755_ZZEF1  \n",
       "cell_id                                                   \n",
       "45006fe3e4c8             4.090185                    0.0  \n",
       "\n",
       "[1 rows x 22050 columns]"
      ]
     },
     "execution_count": 5,
     "metadata": {},
     "output_type": "execute_result"
    }
   ],
   "source": [
    "df_cite_train_x = pd.read_hdf(FP_CITE_TRAIN_INPUTS,start=0,stop=1)\n",
    "df_cite_train_x"
   ]
  },
  {
   "cell_type": "markdown",
   "metadata": {},
   "source": [
    "The first thing we notice is that the start of the gene_id looks much like what we have seen in the multiome data, but there is a new suffix. So what is it about the suffix?\n",
    "\n",
    "Checking the Ensembl ID of gene_id on [ensembl.org](https://www.ensembl.org/Homo_sapiens/Gene/Summary?db=core;g=ENSG00000121410;r=19:58345178-58353492) (in this case for ENSG00000121410) we see that the suffix is actually the name of the gene. As we will see in the next code cell, the gene_id is unique even without this suffix, so it looks like redundant information for now."
   ]
  },
  {
   "cell_type": "code",
   "execution_count": 6,
   "metadata": {},
   "outputs": [
    {
     "data": {
      "text/plain": [
       "22050"
      ]
     },
     "execution_count": 6,
     "metadata": {},
     "output_type": "execute_result"
    }
   ],
   "source": [
    "gene_ids_citeseq = set([i[:i.find(\"_\")] for i in df_cite_train_x.columns])\n",
    "len(gene_ids_citeseq)"
   ]
  },
  {
   "cell_type": "markdown",
   "metadata": {},
   "source": [
    "Stripping of the suffixes still produces 22050 unique ids.\n",
    "\n",
    "Let's check for overlap in both datasets about gene expression:"
   ]
  },
  {
   "cell_type": "code",
   "execution_count": 7,
   "metadata": {},
   "outputs": [
    {
     "name": "stdout",
     "output_type": "stream",
     "text": [
      "Elements in Set Union: 27082\n",
      "Elements in Set Intersection: 18386\n",
      "multiome has 5032 unique gene ids.\n",
      "Citeseq has 3664 unique gene ids.\n"
     ]
    }
   ],
   "source": [
    "gene_ids_multiome = set(df_multi_train_y.columns)\n",
    "\n",
    "print(f\"Elements in Set Union: {len(gene_ids_citeseq | gene_ids_multiome)}\")\n",
    "print(f\"Elements in Set Intersection: {len(gene_ids_citeseq & gene_ids_multiome)}\")\n",
    "print(f\"multiome has {len(gene_ids_multiome - gene_ids_citeseq)} unique gene ids.\")\n",
    "print(f\"Citeseq has {len(gene_ids_citeseq - gene_ids_multiome)} unique gene ids.\")"
   ]
  },
  {
   "cell_type": "markdown",
   "metadata": {},
   "source": [
    "We have quite a huge overlap. More than 18k genes are found in both datasets. But still there are quite a few genes that are unique in each dataset."
   ]
  },
  {
   "cell_type": "markdown",
   "metadata": {},
   "source": [
    "<a id=\"222\"></a><div style=\"color:white;display:fill;\n",
    "            background-color:#3bb2d6;font-size:150%;\">\n",
    "    <p style=\"padding: 4px;color:white;\"><b>2.B.b Surface protein level data</b></p>\n",
    "</div>\n",
    "\n",
    "Lastly, we will have a look at the surface protein levels data gathered by citeseq."
   ]
  },
  {
   "cell_type": "code",
   "execution_count": 8,
   "metadata": {},
   "outputs": [
    {
     "data": {
      "text/html": [
       "<div>\n",
       "<style scoped>\n",
       "    .dataframe tbody tr th:only-of-type {\n",
       "        vertical-align: middle;\n",
       "    }\n",
       "\n",
       "    .dataframe tbody tr th {\n",
       "        vertical-align: top;\n",
       "    }\n",
       "\n",
       "    .dataframe thead th {\n",
       "        text-align: right;\n",
       "    }\n",
       "</style>\n",
       "<table border=\"1\" class=\"dataframe\">\n",
       "  <thead>\n",
       "    <tr style=\"text-align: right;\">\n",
       "      <th>gene_id</th>\n",
       "      <th>CD86</th>\n",
       "      <th>CD274</th>\n",
       "      <th>CD270</th>\n",
       "      <th>CD155</th>\n",
       "      <th>CD112</th>\n",
       "      <th>CD47</th>\n",
       "      <th>CD48</th>\n",
       "      <th>CD40</th>\n",
       "      <th>CD154</th>\n",
       "      <th>CD52</th>\n",
       "      <th>...</th>\n",
       "      <th>CD94</th>\n",
       "      <th>CD162</th>\n",
       "      <th>CD85j</th>\n",
       "      <th>CD23</th>\n",
       "      <th>CD328</th>\n",
       "      <th>HLA-E</th>\n",
       "      <th>CD82</th>\n",
       "      <th>CD101</th>\n",
       "      <th>CD88</th>\n",
       "      <th>CD224</th>\n",
       "    </tr>\n",
       "    <tr>\n",
       "      <th>cell_id</th>\n",
       "      <th></th>\n",
       "      <th></th>\n",
       "      <th></th>\n",
       "      <th></th>\n",
       "      <th></th>\n",
       "      <th></th>\n",
       "      <th></th>\n",
       "      <th></th>\n",
       "      <th></th>\n",
       "      <th></th>\n",
       "      <th></th>\n",
       "      <th></th>\n",
       "      <th></th>\n",
       "      <th></th>\n",
       "      <th></th>\n",
       "      <th></th>\n",
       "      <th></th>\n",
       "      <th></th>\n",
       "      <th></th>\n",
       "      <th></th>\n",
       "      <th></th>\n",
       "    </tr>\n",
       "  </thead>\n",
       "  <tbody>\n",
       "    <tr>\n",
       "      <th>45006fe3e4c8</th>\n",
       "      <td>1.167804</td>\n",
       "      <td>0.62253</td>\n",
       "      <td>0.106959</td>\n",
       "      <td>0.324989</td>\n",
       "      <td>3.331674</td>\n",
       "      <td>6.426002</td>\n",
       "      <td>1.480766</td>\n",
       "      <td>-0.728392</td>\n",
       "      <td>-0.468851</td>\n",
       "      <td>-0.073285</td>\n",
       "      <td>...</td>\n",
       "      <td>-0.44839</td>\n",
       "      <td>3.220174</td>\n",
       "      <td>-0.533004</td>\n",
       "      <td>0.674956</td>\n",
       "      <td>-0.006187</td>\n",
       "      <td>0.682148</td>\n",
       "      <td>1.398105</td>\n",
       "      <td>0.414292</td>\n",
       "      <td>1.780314</td>\n",
       "      <td>0.54807</td>\n",
       "    </tr>\n",
       "  </tbody>\n",
       "</table>\n",
       "<p>1 rows × 140 columns</p>\n",
       "</div>"
      ],
      "text/plain": [
       "gene_id           CD86    CD274     CD270     CD155     CD112      CD47  \\\n",
       "cell_id                                                                   \n",
       "45006fe3e4c8  1.167804  0.62253  0.106959  0.324989  3.331674  6.426002   \n",
       "\n",
       "gene_id           CD48      CD40     CD154      CD52  ...     CD94     CD162  \\\n",
       "cell_id                                               ...                      \n",
       "45006fe3e4c8  1.480766 -0.728392 -0.468851 -0.073285  ... -0.44839  3.220174   \n",
       "\n",
       "gene_id          CD85j      CD23     CD328     HLA-E      CD82     CD101  \\\n",
       "cell_id                                                                    \n",
       "45006fe3e4c8 -0.533004  0.674956 -0.006187  0.682148  1.398105  0.414292   \n",
       "\n",
       "gene_id           CD88    CD224  \n",
       "cell_id                          \n",
       "45006fe3e4c8  1.780314  0.54807  \n",
       "\n",
       "[1 rows x 140 columns]"
      ]
     },
     "execution_count": 8,
     "metadata": {},
     "output_type": "execute_result"
    }
   ],
   "source": [
    "df_cite_train_y = pd.read_hdf(FP_CITE_TRAIN_TARGETS, start=0, stop=1)\n",
    "df_cite_train_y"
   ]
  },
  {
   "cell_type": "markdown",
   "metadata": {},
   "source": [
    "Compared to what we have seen so far, the number of columns in this data set is quite small. We have measurements of 140 features per cell. Most of the names start with CD, which is short for \"Cluster of differentiation\". CDs are used to classify surface molecules a cell expresses. This information can then be used to get an idea of what kind of cell is present, or what function this cell is supposed to serve in the body (I am not sure if my understanding here is even remotely accurate).\n",
    "\n",
    "Here we see all the measured proteins that do not start with CD:"
   ]
  },
  {
   "cell_type": "code",
   "execution_count": 9,
   "metadata": {},
   "outputs": [
    {
     "data": {
      "text/plain": [
       "{'CX3CR1',\n",
       " 'FceRIa',\n",
       " 'HLA-A-B-C',\n",
       " 'HLA-DR',\n",
       " 'HLA-E',\n",
       " 'IgD',\n",
       " 'IgM',\n",
       " 'KLRG1',\n",
       " 'LOX-1',\n",
       " 'Mouse-IgG1',\n",
       " 'Mouse-IgG2a',\n",
       " 'Mouse-IgG2b',\n",
       " 'Podoplanin',\n",
       " 'Rat-IgG1',\n",
       " 'Rat-IgG2a',\n",
       " 'Rat-IgG2b',\n",
       " 'TCR',\n",
       " 'TCRVa7.2',\n",
       " 'TCRVd2',\n",
       " 'TIGIT',\n",
       " 'integrinB7'}"
      ]
     },
     "execution_count": 9,
     "metadata": {},
     "output_type": "execute_result"
    }
   ],
   "source": [
    "surface_portein_ids = set(df_cite_train_y.columns)\n",
    "regex = re.compile(r'^CD.*')\n",
    "{p for p in surface_portein_ids if not regex.match(p)}"
   ]
  },
  {
   "cell_type": "markdown",
   "metadata": {},
   "source": [
    "Iterestingly some of the names start with Rat or Mouse. All of our donors are humans. We will later see if we actually find non zero values for these proteins in the test set.\n",
    "\n",
    "Now having a rough understanding what data is collected by each test and how to interpret the collected data we will have a look at how data is collected. This will be the main focus of chapter 3."
   ]
  },
  {
   "cell_type": "markdown",
   "metadata": {},
   "source": [
    "# 3 How is data collected <a id=\"3\"></a>\n",
    "\n",
    "On top of the actual data we have information about how the data is collected. This metadata is stored in the file metadata.csv. The file contains one row for each cell in the dataset and provides some additional information about that cell."
   ]
  },
  {
   "cell_type": "code",
   "execution_count": 10,
   "metadata": {},
   "outputs": [
    {
     "data": {
      "text/html": [
       "<div>\n",
       "<style scoped>\n",
       "    .dataframe tbody tr th:only-of-type {\n",
       "        vertical-align: middle;\n",
       "    }\n",
       "\n",
       "    .dataframe tbody tr th {\n",
       "        vertical-align: top;\n",
       "    }\n",
       "\n",
       "    .dataframe thead th {\n",
       "        text-align: right;\n",
       "    }\n",
       "</style>\n",
       "<table border=\"1\" class=\"dataframe\">\n",
       "  <thead>\n",
       "    <tr style=\"text-align: right;\">\n",
       "      <th></th>\n",
       "      <th>day</th>\n",
       "      <th>donor</th>\n",
       "      <th>cell_type</th>\n",
       "      <th>technology</th>\n",
       "    </tr>\n",
       "    <tr>\n",
       "      <th>cell_id</th>\n",
       "      <th></th>\n",
       "      <th></th>\n",
       "      <th></th>\n",
       "      <th></th>\n",
       "    </tr>\n",
       "  </thead>\n",
       "  <tbody>\n",
       "    <tr>\n",
       "      <th>c2150f55becb</th>\n",
       "      <td>2</td>\n",
       "      <td>27678</td>\n",
       "      <td>HSC</td>\n",
       "      <td>citeseq</td>\n",
       "    </tr>\n",
       "    <tr>\n",
       "      <th>65b7edf8a4da</th>\n",
       "      <td>2</td>\n",
       "      <td>27678</td>\n",
       "      <td>HSC</td>\n",
       "      <td>citeseq</td>\n",
       "    </tr>\n",
       "    <tr>\n",
       "      <th>c1b26cb1057b</th>\n",
       "      <td>2</td>\n",
       "      <td>27678</td>\n",
       "      <td>EryP</td>\n",
       "      <td>citeseq</td>\n",
       "    </tr>\n",
       "    <tr>\n",
       "      <th>917168fa6f83</th>\n",
       "      <td>2</td>\n",
       "      <td>27678</td>\n",
       "      <td>NeuP</td>\n",
       "      <td>citeseq</td>\n",
       "    </tr>\n",
       "    <tr>\n",
       "      <th>2b29feeca86d</th>\n",
       "      <td>2</td>\n",
       "      <td>27678</td>\n",
       "      <td>EryP</td>\n",
       "      <td>citeseq</td>\n",
       "    </tr>\n",
       "    <tr>\n",
       "      <th>...</th>\n",
       "      <td>...</td>\n",
       "      <td>...</td>\n",
       "      <td>...</td>\n",
       "      <td>...</td>\n",
       "    </tr>\n",
       "    <tr>\n",
       "      <th>96a60b026659</th>\n",
       "      <td>10</td>\n",
       "      <td>31800</td>\n",
       "      <td>hidden</td>\n",
       "      <td>multiome</td>\n",
       "    </tr>\n",
       "    <tr>\n",
       "      <th>d493e546991e</th>\n",
       "      <td>10</td>\n",
       "      <td>31800</td>\n",
       "      <td>hidden</td>\n",
       "      <td>multiome</td>\n",
       "    </tr>\n",
       "    <tr>\n",
       "      <th>05666c99aa48</th>\n",
       "      <td>10</td>\n",
       "      <td>31800</td>\n",
       "      <td>hidden</td>\n",
       "      <td>multiome</td>\n",
       "    </tr>\n",
       "    <tr>\n",
       "      <th>121f946642b5</th>\n",
       "      <td>10</td>\n",
       "      <td>31800</td>\n",
       "      <td>hidden</td>\n",
       "      <td>multiome</td>\n",
       "    </tr>\n",
       "    <tr>\n",
       "      <th>b847ba21f59f</th>\n",
       "      <td>10</td>\n",
       "      <td>31800</td>\n",
       "      <td>hidden</td>\n",
       "      <td>multiome</td>\n",
       "    </tr>\n",
       "  </tbody>\n",
       "</table>\n",
       "<p>281528 rows × 4 columns</p>\n",
       "</div>"
      ],
      "text/plain": [
       "              day  donor cell_type technology\n",
       "cell_id                                      \n",
       "c2150f55becb    2  27678       HSC    citeseq\n",
       "65b7edf8a4da    2  27678       HSC    citeseq\n",
       "c1b26cb1057b    2  27678      EryP    citeseq\n",
       "917168fa6f83    2  27678      NeuP    citeseq\n",
       "2b29feeca86d    2  27678      EryP    citeseq\n",
       "...           ...    ...       ...        ...\n",
       "96a60b026659   10  31800    hidden   multiome\n",
       "d493e546991e   10  31800    hidden   multiome\n",
       "05666c99aa48   10  31800    hidden   multiome\n",
       "121f946642b5   10  31800    hidden   multiome\n",
       "b847ba21f59f   10  31800    hidden   multiome\n",
       "\n",
       "[281528 rows x 4 columns]"
      ]
     },
     "execution_count": 10,
     "metadata": {},
     "output_type": "execute_result"
    }
   ],
   "source": [
    "df_meta = pd.read_csv(FP_CELL_METADATA).set_index(\"cell_id\")\n",
    "df_meta"
   ]
  },
  {
   "cell_type": "markdown",
   "metadata": {},
   "source": [
    "For each cell, we see the **day** column tells us on which day the test was performed. The test that was actually performed is shown in the **technology** column. Note that experiments started on day 1, therefore the first tests were performed one day after the cells were injected with Neupogen for the first time ([compare here](https://allcells.com/research-grade-tissue-products/mobilized-leukopak/)). For each of the four donors, we have a **donor** ID giving us information about the origin of the cell. Lastly, there is a **cell_type** column. The cell types are labels assigned by humans. They might be imprecise and this information is not available for test data since it would be possible to draw conclusions about surface protein levels, for example. It is not clear if we can make use of that later (maybe we can use it for creating balanced splits, but we will see).\n",
    "\n",
    "[jirkaborovec](https://www.kaggle.com/jirkaborovec) already composed a great analysis of the metadata in this [notebook](https://www.kaggle.com/code/jirkaborovec/mmscel-inst-eda-stat-predictions). I will copy some parts here for readability and add some comments myself."
   ]
  },
  {
   "cell_type": "code",
   "execution_count": 11,
   "metadata": {},
   "outputs": [
    {
     "data": {
      "image/png": "[encoded data removed]",
      "text/plain": [
       "<Figure size 1200x500 with 3 Axes>"
      ]
     },
     "metadata": {},
     "output_type": "display_data"
    }
   ],
   "source": [
    "fig, axarr = plt.subplots(nrows=1, ncols=3, figsize=(12, 5))\n",
    "for i, col in enumerate([\"donor\", \"day\", \"technology\"]):\n",
    "    _= df_meta[[col]].value_counts().plot.pie(ax=axarr[i], autopct='%1.1f%%', ylabel=col)"
   ]
  },
  {
   "cell_type": "markdown",
   "metadata": {},
   "source": [
    "As we can see, the cell data is pretty balanced. We have almost an equal number of cells from each donor (the big numbers in the first picture are the donor ids). Also, the days of the experiment were fairly balanced. The last day, day 10, only receives an 11% share of the cells. Day 10 is also the only day not present in the train data at all! Also, the train set does not contain any data from donor 27678!\n",
    "\n",
    "We have slightly more data available for the multinome test. It is not the worst since our model also has to predict many more features for that test.\n",
    "\n",
    "The distribution of data in general is pretty well balanced (e. g., the number of tests taken / test / day is well distributed). For a more in-depth analysis of the metadata, I highly recommend the already mentioned [notebook](https://www.kaggle.com/code/jirkaborovec/mmscel-inst-eda-stat-predictions)."
   ]
  },
  {
   "cell_type": "code",
   "execution_count": 13,
   "metadata": {},
   "outputs": [
    {
     "data": {
      "text/plain": [
       "<seaborn.axisgrid.FacetGrid at 0x7fb8d0d4ab20>"
      ]
     },
     "execution_count": 13,
     "metadata": {},
     "output_type": "execute_result"
    },
    {
     "data": {
      "image/png": "[encoded data removed]",
      "text/plain": [
       "<Figure size 2628x500 with 5 Axes>"
      ]
     },
     "metadata": {},
     "output_type": "display_data"
    }
   ],
   "source": [
    "sns.catplot(\n",
    "    data=df_meta,\n",
    "    x=\"donor\",\n",
    "    hue=\"technology\",\n",
    "    col=\"day\",\n",
    "    kind=\"count\",\n",
    ")"
   ]
  },
  {
   "cell_type": "markdown",
   "metadata": {},
   "source": [
    "# 4 Data centric view <a id=\"4\"></a>\n",
    "\n",
    "Having a good understanding about what properties of a cell we measure and how data is collected lets now look at the properties of the datasets we are provided with. The following three subchapters will focus on that. One Subchapter for each property.\n",
    "\n",
    "<a id=\"41\"></a><div style=\"color:white;display:fill;\n",
    "            background-color:#3bb2d6;font-size:200%;\">\n",
    "    <p style=\"padding: 4px;color:white;\"><b>4.A Chromatin Accessibility</b></p>\n",
    "</div>\n",
    "\n",
    "This part of the analysis is actually quite challenging. The problem we face is due to layout of memory. We receive the memory arranged by rows. This means, for a single cell all the features about that cell are arranged together in memory. But in some cases we are interested in properties of features and not properties of cells. To give an example, it would be really interesting to know the mean and std deviation of every feature present in our dataset. Since we cannot load the whole dataset into memory at once, we have to load batches. The problem is, that when loading say 10 feature columns, we have to look at (cell count) different locations in storage. This takes considerable time, since we have about 100k cells. If we wanted to load the features of 10 cells into RAM we would get results almost immediately. \n",
    "\n",
    "Therefore I created a dataset with the data transposed (its uploaded on kaggle as mmscel-data-transposed). And also two notebooks that calculate features of rows and columns. They are named \"cell-feature-generation\" and \"feature-feature-generation\". Both are public as well.\n",
    "\n",
    "Let's start with looking at \"cell features\". This is the easier part of the analysis."
   ]
  },
  {
   "cell_type": "code",
   "execution_count": 14,
   "metadata": {},
   "outputs": [
    {
     "ename": "FileNotFoundError",
     "evalue": "[Errno 2] No such file or directory: '../input/cell-feature-generation/train_multi_inputs_cell_features.csv'",
     "output_type": "error",
     "traceback": [
      "\u001b[0;31m---------------------------------------------------------------------------\u001b[0m",
      "\u001b[0;31mFileNotFoundError\u001b[0m                         Traceback (most recent call last)",
      "Cell \u001b[0;32mIn [14], line 2\u001b[0m\n\u001b[1;32m      1\u001b[0m \u001b[38;5;66;03m# lets load the calculated features into a dataframe\u001b[39;00m\n\u001b[0;32m----> 2\u001b[0m df_train \u001b[38;5;241m=\u001b[39m \u001b[43mpd\u001b[49m\u001b[38;5;241;43m.\u001b[39;49m\u001b[43mread_csv\u001b[49m\u001b[43m(\u001b[49m\u001b[38;5;124;43m'\u001b[39;49m\u001b[38;5;124;43m../input/cell-feature-generation/train_multi_inputs_cell_features.csv\u001b[39;49m\u001b[38;5;124;43m'\u001b[39;49m\u001b[43m)\u001b[49m\u001b[38;5;241m.\u001b[39mrename(columns\u001b[38;5;241m=\u001b[39m{\u001b[38;5;124m'\u001b[39m\u001b[38;5;124mUnnamed: 0\u001b[39m\u001b[38;5;124m'\u001b[39m: \u001b[38;5;124m'\u001b[39m\u001b[38;5;124mcell_id\u001b[39m\u001b[38;5;124m'\u001b[39m})\n\u001b[1;32m      3\u001b[0m df_train\u001b[38;5;241m.\u001b[39minsert(\u001b[38;5;241m1\u001b[39m, \u001b[38;5;124m'\u001b[39m\u001b[38;5;124mset\u001b[39m\u001b[38;5;124m'\u001b[39m, \u001b[38;5;124m'\u001b[39m\u001b[38;5;124mtrain\u001b[39m\u001b[38;5;124m'\u001b[39m)\n\u001b[1;32m      4\u001b[0m df_test \u001b[38;5;241m=\u001b[39m pd\u001b[38;5;241m.\u001b[39mread_csv(\u001b[38;5;124m'\u001b[39m\u001b[38;5;124m../input/cell-feature-generation/test_multi_inputs_cell_features.csv\u001b[39m\u001b[38;5;124m'\u001b[39m)\u001b[38;5;241m.\u001b[39mrename(columns\u001b[38;5;241m=\u001b[39m{\u001b[38;5;124m'\u001b[39m\u001b[38;5;124mUnnamed: 0\u001b[39m\u001b[38;5;124m'\u001b[39m: \u001b[38;5;124m'\u001b[39m\u001b[38;5;124mcell_id\u001b[39m\u001b[38;5;124m'\u001b[39m})\n",
      "File \u001b[0;32m~/miniconda3/envs/msci/lib/python3.9/site-packages/pandas/util/_decorators.py:311\u001b[0m, in \u001b[0;36mdeprecate_nonkeyword_arguments.<locals>.decorate.<locals>.wrapper\u001b[0;34m(*args, **kwargs)\u001b[0m\n\u001b[1;32m    305\u001b[0m \u001b[38;5;28;01mif\u001b[39;00m \u001b[38;5;28mlen\u001b[39m(args) \u001b[38;5;241m>\u001b[39m num_allow_args:\n\u001b[1;32m    306\u001b[0m     warnings\u001b[38;5;241m.\u001b[39mwarn(\n\u001b[1;32m    307\u001b[0m         msg\u001b[38;5;241m.\u001b[39mformat(arguments\u001b[38;5;241m=\u001b[39marguments),\n\u001b[1;32m    308\u001b[0m         \u001b[38;5;167;01mFutureWarning\u001b[39;00m,\n\u001b[1;32m    309\u001b[0m         stacklevel\u001b[38;5;241m=\u001b[39mstacklevel,\n\u001b[1;32m    310\u001b[0m     )\n\u001b[0;32m--> 311\u001b[0m \u001b[38;5;28;01mreturn\u001b[39;00m \u001b[43mfunc\u001b[49m\u001b[43m(\u001b[49m\u001b[38;5;241;43m*\u001b[39;49m\u001b[43margs\u001b[49m\u001b[43m,\u001b[49m\u001b[43m \u001b[49m\u001b[38;5;241;43m*\u001b[39;49m\u001b[38;5;241;43m*\u001b[39;49m\u001b[43mkwargs\u001b[49m\u001b[43m)\u001b[49m\n",
      "File \u001b[0;32m~/miniconda3/envs/msci/lib/python3.9/site-packages/pandas/io/parsers/readers.py:678\u001b[0m, in \u001b[0;36mread_csv\u001b[0;34m(filepath_or_buffer, sep, delimiter, header, names, index_col, usecols, squeeze, prefix, mangle_dupe_cols, dtype, engine, converters, true_values, false_values, skipinitialspace, skiprows, skipfooter, nrows, na_values, keep_default_na, na_filter, verbose, skip_blank_lines, parse_dates, infer_datetime_format, keep_date_col, date_parser, dayfirst, cache_dates, iterator, chunksize, compression, thousands, decimal, lineterminator, quotechar, quoting, doublequote, escapechar, comment, encoding, encoding_errors, dialect, error_bad_lines, warn_bad_lines, on_bad_lines, delim_whitespace, low_memory, memory_map, float_precision, storage_options)\u001b[0m\n\u001b[1;32m    663\u001b[0m kwds_defaults \u001b[38;5;241m=\u001b[39m _refine_defaults_read(\n\u001b[1;32m    664\u001b[0m     dialect,\n\u001b[1;32m    665\u001b[0m     delimiter,\n\u001b[0;32m   (...)\u001b[0m\n\u001b[1;32m    674\u001b[0m     defaults\u001b[38;5;241m=\u001b[39m{\u001b[38;5;124m\"\u001b[39m\u001b[38;5;124mdelimiter\u001b[39m\u001b[38;5;124m\"\u001b[39m: \u001b[38;5;124m\"\u001b[39m\u001b[38;5;124m,\u001b[39m\u001b[38;5;124m\"\u001b[39m},\n\u001b[1;32m    675\u001b[0m )\n\u001b[1;32m    676\u001b[0m kwds\u001b[38;5;241m.\u001b[39mupdate(kwds_defaults)\n\u001b[0;32m--> 678\u001b[0m \u001b[38;5;28;01mreturn\u001b[39;00m \u001b[43m_read\u001b[49m\u001b[43m(\u001b[49m\u001b[43mfilepath_or_buffer\u001b[49m\u001b[43m,\u001b[49m\u001b[43m \u001b[49m\u001b[43mkwds\u001b[49m\u001b[43m)\u001b[49m\n",
      "File \u001b[0;32m~/miniconda3/envs/msci/lib/python3.9/site-packages/pandas/io/parsers/readers.py:575\u001b[0m, in \u001b[0;36m_read\u001b[0;34m(filepath_or_buffer, kwds)\u001b[0m\n\u001b[1;32m    572\u001b[0m _validate_names(kwds\u001b[38;5;241m.\u001b[39mget(\u001b[38;5;124m\"\u001b[39m\u001b[38;5;124mnames\u001b[39m\u001b[38;5;124m\"\u001b[39m, \u001b[38;5;28;01mNone\u001b[39;00m))\n\u001b[1;32m    574\u001b[0m \u001b[38;5;66;03m# Create the parser.\u001b[39;00m\n\u001b[0;32m--> 575\u001b[0m parser \u001b[38;5;241m=\u001b[39m \u001b[43mTextFileReader\u001b[49m\u001b[43m(\u001b[49m\u001b[43mfilepath_or_buffer\u001b[49m\u001b[43m,\u001b[49m\u001b[43m \u001b[49m\u001b[38;5;241;43m*\u001b[39;49m\u001b[38;5;241;43m*\u001b[39;49m\u001b[43mkwds\u001b[49m\u001b[43m)\u001b[49m\n\u001b[1;32m    577\u001b[0m \u001b[38;5;28;01mif\u001b[39;00m chunksize \u001b[38;5;129;01mor\u001b[39;00m iterator:\n\u001b[1;32m    578\u001b[0m     \u001b[38;5;28;01mreturn\u001b[39;00m parser\n",
      "File \u001b[0;32m~/miniconda3/envs/msci/lib/python3.9/site-packages/pandas/io/parsers/readers.py:932\u001b[0m, in \u001b[0;36mTextFileReader.__init__\u001b[0;34m(self, f, engine, **kwds)\u001b[0m\n\u001b[1;32m    929\u001b[0m     \u001b[38;5;28mself\u001b[39m\u001b[38;5;241m.\u001b[39moptions[\u001b[38;5;124m\"\u001b[39m\u001b[38;5;124mhas_index_names\u001b[39m\u001b[38;5;124m\"\u001b[39m] \u001b[38;5;241m=\u001b[39m kwds[\u001b[38;5;124m\"\u001b[39m\u001b[38;5;124mhas_index_names\u001b[39m\u001b[38;5;124m\"\u001b[39m]\n\u001b[1;32m    931\u001b[0m \u001b[38;5;28mself\u001b[39m\u001b[38;5;241m.\u001b[39mhandles: IOHandles \u001b[38;5;241m|\u001b[39m \u001b[38;5;28;01mNone\u001b[39;00m \u001b[38;5;241m=\u001b[39m \u001b[38;5;28;01mNone\u001b[39;00m\n\u001b[0;32m--> 932\u001b[0m \u001b[38;5;28mself\u001b[39m\u001b[38;5;241m.\u001b[39m_engine \u001b[38;5;241m=\u001b[39m \u001b[38;5;28;43mself\u001b[39;49m\u001b[38;5;241;43m.\u001b[39;49m\u001b[43m_make_engine\u001b[49m\u001b[43m(\u001b[49m\u001b[43mf\u001b[49m\u001b[43m,\u001b[49m\u001b[43m \u001b[49m\u001b[38;5;28;43mself\u001b[39;49m\u001b[38;5;241;43m.\u001b[39;49m\u001b[43mengine\u001b[49m\u001b[43m)\u001b[49m\n",
      "File \u001b[0;32m~/miniconda3/envs/msci/lib/python3.9/site-packages/pandas/io/parsers/readers.py:1216\u001b[0m, in \u001b[0;36mTextFileReader._make_engine\u001b[0;34m(self, f, engine)\u001b[0m\n\u001b[1;32m   1212\u001b[0m     mode \u001b[38;5;241m=\u001b[39m \u001b[38;5;124m\"\u001b[39m\u001b[38;5;124mrb\u001b[39m\u001b[38;5;124m\"\u001b[39m\n\u001b[1;32m   1213\u001b[0m \u001b[38;5;66;03m# error: No overload variant of \"get_handle\" matches argument types\u001b[39;00m\n\u001b[1;32m   1214\u001b[0m \u001b[38;5;66;03m# \"Union[str, PathLike[str], ReadCsvBuffer[bytes], ReadCsvBuffer[str]]\"\u001b[39;00m\n\u001b[1;32m   1215\u001b[0m \u001b[38;5;66;03m# , \"str\", \"bool\", \"Any\", \"Any\", \"Any\", \"Any\", \"Any\"\u001b[39;00m\n\u001b[0;32m-> 1216\u001b[0m \u001b[38;5;28mself\u001b[39m\u001b[38;5;241m.\u001b[39mhandles \u001b[38;5;241m=\u001b[39m \u001b[43mget_handle\u001b[49m\u001b[43m(\u001b[49m\u001b[43m  \u001b[49m\u001b[38;5;66;43;03m# type: ignore[call-overload]\u001b[39;49;00m\n\u001b[1;32m   1217\u001b[0m \u001b[43m    \u001b[49m\u001b[43mf\u001b[49m\u001b[43m,\u001b[49m\n\u001b[1;32m   1218\u001b[0m \u001b[43m    \u001b[49m\u001b[43mmode\u001b[49m\u001b[43m,\u001b[49m\n\u001b[1;32m   1219\u001b[0m \u001b[43m    \u001b[49m\u001b[43mencoding\u001b[49m\u001b[38;5;241;43m=\u001b[39;49m\u001b[38;5;28;43mself\u001b[39;49m\u001b[38;5;241;43m.\u001b[39;49m\u001b[43moptions\u001b[49m\u001b[38;5;241;43m.\u001b[39;49m\u001b[43mget\u001b[49m\u001b[43m(\u001b[49m\u001b[38;5;124;43m\"\u001b[39;49m\u001b[38;5;124;43mencoding\u001b[39;49m\u001b[38;5;124;43m\"\u001b[39;49m\u001b[43m,\u001b[49m\u001b[43m \u001b[49m\u001b[38;5;28;43;01mNone\u001b[39;49;00m\u001b[43m)\u001b[49m\u001b[43m,\u001b[49m\n\u001b[1;32m   1220\u001b[0m \u001b[43m    \u001b[49m\u001b[43mcompression\u001b[49m\u001b[38;5;241;43m=\u001b[39;49m\u001b[38;5;28;43mself\u001b[39;49m\u001b[38;5;241;43m.\u001b[39;49m\u001b[43moptions\u001b[49m\u001b[38;5;241;43m.\u001b[39;49m\u001b[43mget\u001b[49m\u001b[43m(\u001b[49m\u001b[38;5;124;43m\"\u001b[39;49m\u001b[38;5;124;43mcompression\u001b[39;49m\u001b[38;5;124;43m\"\u001b[39;49m\u001b[43m,\u001b[49m\u001b[43m \u001b[49m\u001b[38;5;28;43;01mNone\u001b[39;49;00m\u001b[43m)\u001b[49m\u001b[43m,\u001b[49m\n\u001b[1;32m   1221\u001b[0m \u001b[43m    \u001b[49m\u001b[43mmemory_map\u001b[49m\u001b[38;5;241;43m=\u001b[39;49m\u001b[38;5;28;43mself\u001b[39;49m\u001b[38;5;241;43m.\u001b[39;49m\u001b[43moptions\u001b[49m\u001b[38;5;241;43m.\u001b[39;49m\u001b[43mget\u001b[49m\u001b[43m(\u001b[49m\u001b[38;5;124;43m\"\u001b[39;49m\u001b[38;5;124;43mmemory_map\u001b[39;49m\u001b[38;5;124;43m\"\u001b[39;49m\u001b[43m,\u001b[49m\u001b[43m \u001b[49m\u001b[38;5;28;43;01mFalse\u001b[39;49;00m\u001b[43m)\u001b[49m\u001b[43m,\u001b[49m\n\u001b[1;32m   1222\u001b[0m \u001b[43m    \u001b[49m\u001b[43mis_text\u001b[49m\u001b[38;5;241;43m=\u001b[39;49m\u001b[43mis_text\u001b[49m\u001b[43m,\u001b[49m\n\u001b[1;32m   1223\u001b[0m \u001b[43m    \u001b[49m\u001b[43merrors\u001b[49m\u001b[38;5;241;43m=\u001b[39;49m\u001b[38;5;28;43mself\u001b[39;49m\u001b[38;5;241;43m.\u001b[39;49m\u001b[43moptions\u001b[49m\u001b[38;5;241;43m.\u001b[39;49m\u001b[43mget\u001b[49m\u001b[43m(\u001b[49m\u001b[38;5;124;43m\"\u001b[39;49m\u001b[38;5;124;43mencoding_errors\u001b[39;49m\u001b[38;5;124;43m\"\u001b[39;49m\u001b[43m,\u001b[49m\u001b[43m \u001b[49m\u001b[38;5;124;43m\"\u001b[39;49m\u001b[38;5;124;43mstrict\u001b[39;49m\u001b[38;5;124;43m\"\u001b[39;49m\u001b[43m)\u001b[49m\u001b[43m,\u001b[49m\n\u001b[1;32m   1224\u001b[0m \u001b[43m    \u001b[49m\u001b[43mstorage_options\u001b[49m\u001b[38;5;241;43m=\u001b[39;49m\u001b[38;5;28;43mself\u001b[39;49m\u001b[38;5;241;43m.\u001b[39;49m\u001b[43moptions\u001b[49m\u001b[38;5;241;43m.\u001b[39;49m\u001b[43mget\u001b[49m\u001b[43m(\u001b[49m\u001b[38;5;124;43m\"\u001b[39;49m\u001b[38;5;124;43mstorage_options\u001b[39;49m\u001b[38;5;124;43m\"\u001b[39;49m\u001b[43m,\u001b[49m\u001b[43m \u001b[49m\u001b[38;5;28;43;01mNone\u001b[39;49;00m\u001b[43m)\u001b[49m\u001b[43m,\u001b[49m\n\u001b[1;32m   1225\u001b[0m \u001b[43m\u001b[49m\u001b[43m)\u001b[49m\n\u001b[1;32m   1226\u001b[0m \u001b[38;5;28;01massert\u001b[39;00m \u001b[38;5;28mself\u001b[39m\u001b[38;5;241m.\u001b[39mhandles \u001b[38;5;129;01mis\u001b[39;00m \u001b[38;5;129;01mnot\u001b[39;00m \u001b[38;5;28;01mNone\u001b[39;00m\n\u001b[1;32m   1227\u001b[0m f \u001b[38;5;241m=\u001b[39m \u001b[38;5;28mself\u001b[39m\u001b[38;5;241m.\u001b[39mhandles\u001b[38;5;241m.\u001b[39mhandle\n",
      "File \u001b[0;32m~/miniconda3/envs/msci/lib/python3.9/site-packages/pandas/io/common.py:786\u001b[0m, in \u001b[0;36mget_handle\u001b[0;34m(path_or_buf, mode, encoding, compression, memory_map, is_text, errors, storage_options)\u001b[0m\n\u001b[1;32m    781\u001b[0m \u001b[38;5;28;01melif\u001b[39;00m \u001b[38;5;28misinstance\u001b[39m(handle, \u001b[38;5;28mstr\u001b[39m):\n\u001b[1;32m    782\u001b[0m     \u001b[38;5;66;03m# Check whether the filename is to be opened in binary mode.\u001b[39;00m\n\u001b[1;32m    783\u001b[0m     \u001b[38;5;66;03m# Binary mode does not support 'encoding' and 'newline'.\u001b[39;00m\n\u001b[1;32m    784\u001b[0m     \u001b[38;5;28;01mif\u001b[39;00m ioargs\u001b[38;5;241m.\u001b[39mencoding \u001b[38;5;129;01mand\u001b[39;00m \u001b[38;5;124m\"\u001b[39m\u001b[38;5;124mb\u001b[39m\u001b[38;5;124m\"\u001b[39m \u001b[38;5;129;01mnot\u001b[39;00m \u001b[38;5;129;01min\u001b[39;00m ioargs\u001b[38;5;241m.\u001b[39mmode:\n\u001b[1;32m    785\u001b[0m         \u001b[38;5;66;03m# Encoding\u001b[39;00m\n\u001b[0;32m--> 786\u001b[0m         handle \u001b[38;5;241m=\u001b[39m \u001b[38;5;28;43mopen\u001b[39;49m\u001b[43m(\u001b[49m\n\u001b[1;32m    787\u001b[0m \u001b[43m            \u001b[49m\u001b[43mhandle\u001b[49m\u001b[43m,\u001b[49m\n\u001b[1;32m    788\u001b[0m \u001b[43m            \u001b[49m\u001b[43mioargs\u001b[49m\u001b[38;5;241;43m.\u001b[39;49m\u001b[43mmode\u001b[49m\u001b[43m,\u001b[49m\n\u001b[1;32m    789\u001b[0m \u001b[43m            \u001b[49m\u001b[43mencoding\u001b[49m\u001b[38;5;241;43m=\u001b[39;49m\u001b[43mioargs\u001b[49m\u001b[38;5;241;43m.\u001b[39;49m\u001b[43mencoding\u001b[49m\u001b[43m,\u001b[49m\n\u001b[1;32m    790\u001b[0m \u001b[43m            \u001b[49m\u001b[43merrors\u001b[49m\u001b[38;5;241;43m=\u001b[39;49m\u001b[43merrors\u001b[49m\u001b[43m,\u001b[49m\n\u001b[1;32m    791\u001b[0m \u001b[43m            \u001b[49m\u001b[43mnewline\u001b[49m\u001b[38;5;241;43m=\u001b[39;49m\u001b[38;5;124;43m\"\u001b[39;49m\u001b[38;5;124;43m\"\u001b[39;49m\u001b[43m,\u001b[49m\n\u001b[1;32m    792\u001b[0m \u001b[43m        \u001b[49m\u001b[43m)\u001b[49m\n\u001b[1;32m    793\u001b[0m     \u001b[38;5;28;01melse\u001b[39;00m:\n\u001b[1;32m    794\u001b[0m         \u001b[38;5;66;03m# Binary mode\u001b[39;00m\n\u001b[1;32m    795\u001b[0m         handle \u001b[38;5;241m=\u001b[39m \u001b[38;5;28mopen\u001b[39m(handle, ioargs\u001b[38;5;241m.\u001b[39mmode)\n",
      "\u001b[0;31mFileNotFoundError\u001b[0m: [Errno 2] No such file or directory: '../input/cell-feature-generation/train_multi_inputs_cell_features.csv'"
     ]
    }
   ],
   "source": [
    "# lets load the calculated features into a dataframe\n",
    "df_train = pd.read_csv('../input/cell-feature-generation/train_multi_inputs_cell_features.csv').rename(columns={'Unnamed: 0': 'cell_id'})\n",
    "df_train.insert(1, 'set', 'train')\n",
    "df_test = pd.read_csv('../input/cell-feature-generation/test_multi_inputs_cell_features.csv').rename(columns={'Unnamed: 0': 'cell_id'})\n",
    "df_test.insert(1, 'set', 'test')\n",
    "\n",
    "df = pd.concat([df_train, df_test]).reset_index(drop=True)\n",
    "del df_train, df_test; gc.collect()\n",
    "\n",
    "df"
   ]
  },
  {
   "cell_type": "code",
   "execution_count": null,
   "metadata": {},
   "outputs": [],
   "source": [
    "print(f\"Each cell has at least {df['count_non_zero'].min()} genes with non-zero accessibility values and a maximum of {df['count_non_zero'].max()}.\")\n",
    "print(f\"On average there are {round(df['count_non_zero'].mean())} genes with non-zero accessibility values in each cell.\")\n",
    "print(f\"The mean non-zero value for each cell ranges between {df['mean_non_zero'].min()} and {df['mean_non_zero'].max()}.\\nThe average mean non-zero over all cells is {df['mean_non_zero'].mean()}.\")"
   ]
  },
  {
   "cell_type": "code",
   "execution_count": null,
   "metadata": {},
   "outputs": [],
   "source": [
    "sns.displot(df, x=\"count_non_zero\", binwidth=500, hue='set')\n",
    "# hier evtl kind=kde irgendwo verwenden (weil die hoehen sonst unterschiedlich sind wegen der verschiedenen set groessen)"
   ]
  },
  {
   "cell_type": "code",
   "execution_count": null,
   "metadata": {},
   "outputs": [],
   "source": [
    "sns.relplot(\n",
    "    data=df,\n",
    "    x='count_non_zero', y='2_tups', col='set', s=1\n",
    ")\n",
    "# Eine Idee waere hier die erwartete Anzahl von zwei Tupeln/ drei tupeln und so weiter gegen die anzahl von tatsaechlich vorliegenden n tupeln zu plotten"
   ]
  },
  {
   "cell_type": "markdown",
   "metadata": {},
   "source": [
    "Next we will see something really interesting. As mentioned before the locations on the genome we are looking at are called peeks. Multiple peeks can constitute to a single gene. Therefore one can assume, that we find groups of neighbooring peeks, that are all non-zero (the logic behind that is, that reading DNA cares about reading a whole gene and not about reading human defined peek regions). So lets check for that. We will take 100 random samples from the test set."
   ]
  },
  {
   "cell_type": "code",
   "execution_count": null,
   "metadata": {},
   "outputs": [],
   "source": [
    "for i in tqdm(range(100)):\n",
    "    s_num = random.randint(0,100000)\n",
    "    df = pd.read_hdf(FP_MULTIOME_TRAIN_INPUTS,start=s_num,stop=s_num+1)\n",
    "    val_c_df = (df.iloc[0].le(0).astype(int).cumsum().value_counts() - 1)\n",
    "    snake_count = val_c_df[val_c_df != 0].value_counts()\n",
    "    if i == 0:\n",
    "        res_df = snake_count\n",
    "    else:\n",
    "        res_df = res_df.add(snake_count, fill_value=0)\n",
    "\n",
    "res_df"
   ]
  },
  {
   "cell_type": "markdown",
   "metadata": {},
   "source": [
    "This is definitely not what I expected. Most of the accessible parts of the genome do not have any accessible neighbors. As I am not a geneticist I don't know why this is the case. Maybe someone else can explain.\n",
    "\n",
    "After having a look at \"features of cells\" we will have a look at \"features of features\". \n",
    "It will take almost the same time to load 10 Feature Columns or 1000 Feature columns. Therefore we will set our batch size as high as possible."
   ]
  },
  {
   "cell_type": "code",
   "execution_count": null,
   "metadata": {
    "_kg_hide-input": true
   },
   "outputs": [],
   "source": [
    "# this block of code is long and ugly to read. It basically just loads data columnwise and\n",
    "# calculates some features of the columns. After that those features are stored in a dataframe\n",
    "# for later analysis\n",
    "with tb.open_file(FP_MULTIOME_TRAIN_INPUTS, 'r') as fileh:\n",
    "    # get handles for the individual datablocks in hdf5 file\n",
    "    values = fileh.root.train_multi_inputs.block0_values\n",
    "    column_names = fileh.root.train_multi_inputs.block0_items\n",
    "    cell_ids = fileh.root.train_multi_inputs.axis1\n",
    "    \n",
    "    # create lists of all cell_ids and genome_peeks\n",
    "    cell_ids_list = [i.decode('UTF-8') for i in cell_ids[:]]\n",
    "    genome_peeks_list = [i.decode('UTF-8') for i in column_names[:]]\n",
    "    \n",
    "    # the features we want to calculate for every genome_peek\n",
    "    target_features = [\n",
    "        'count_non_zero',\n",
    "        'max_value',\n",
    "        'min_value',\n",
    "        'sum_values',\n",
    "        'mean_non_zero',\n",
    "        'std_dev_non_zero',\n",
    "    ]\n",
    "    \n",
    "    # list to hold batch DFs\n",
    "    res_df_list = []\n",
    "    \n",
    "    batchsize = 5_000\n",
    "    iterations = int(np.ceil(len(genome_peeks_list) / batchsize))\n",
    "    \n",
    "    # TODO change 2 to iterations\n",
    "    for i in tqdm(range(2)):\n",
    "        # this is the computational expensive part. Even if we just want to look at\n",
    "        # 10k columns, we have to look at 100k different storage locations\n",
    "        df = pd.DataFrame(values[:,i*batchsize:(i+1)*batchsize].T,\n",
    "                          index=genome_peeks_list[i*batchsize: (i+1)*batchsize],\n",
    "                          columns=cell_ids_list)\n",
    "        \n",
    "        tmp_df = pd.DataFrame(index=genome_peeks_list[i*batchsize: (i+1)*batchsize], columns=target_features)\n",
    "        \n",
    "        # this is not so expensive. Once the memory is loaded we can compute the features we want\n",
    "        tmp_df['count_non_zero'] = df.gt(0).sum(axis=1).astype(pd.Int64Dtype())\n",
    "        tmp_df['max_value'] = df.max(axis=1).astype(pd.Float32Dtype())\n",
    "        tmp_df['min_value'] = df.min(axis=1).astype(pd.Float32Dtype())\n",
    "        tmp_df['sum_values'] = df.sum(axis=1).astype(pd.Float64Dtype())\n",
    "        tmp_df['mean_non_zero'] = df[df.gt(0)].mean(axis=1).astype(pd.Float32Dtype())\n",
    "        tmp_df['std_dev_non_zero'] = df[df.gt(0)].std(axis=1).astype(pd.Float32Dtype())\n",
    "        res_df_list.append(tmp_df)\n",
    "    \n",
    "peeks_feature_df = pd.concat(res_df_list)\n",
    "del res_df_list\n",
    "del tmp_df\n",
    "gc.collect()"
   ]
  },
  {
   "cell_type": "code",
   "execution_count": null,
   "metadata": {},
   "outputs": [],
   "source": [
    "# check for peeks that are zero for every single cell\n",
    "peeks_feature_df[peeks_feature_df['count_non_zero'] == 0]"
   ]
  },
  {
   "cell_type": "markdown",
   "metadata": {},
   "source": [
    "As we can see, there are 10 peek region, that are zero for every single cell. We can remove those features from our dataset."
   ]
  },
  {
   "cell_type": "code",
   "execution_count": null,
   "metadata": {},
   "outputs": [],
   "source": [
    "print(f\"Values range from {peeks_feature_df['min_value'].min()} to {peeks_feature_df['max_value'].max()}\")\n"
   ]
  },
  {
   "cell_type": "code",
   "execution_count": null,
   "metadata": {},
   "outputs": [],
   "source": [
    "sns.jointplot(\n",
    "    data=peeks_feature_df,\n",
    "    x=\"mean_non_zero\", y=\"max_value\",\n",
    "    kind=\"kde\"\n",
    ")"
   ]
  },
  {
   "cell_type": "code",
   "execution_count": null,
   "metadata": {},
   "outputs": [],
   "source": [
    "sns.kdeplot(data=peeks_feature_df[['mean_non_zero', 'max_value']].values)"
   ]
  },
  {
   "cell_type": "markdown",
   "metadata": {},
   "source": [
    "<a id=\"42\"></a><div style=\"color:white;display:fill;\n",
    "            background-color:#3bb2d6;font-size:200%;\">\n",
    "    <p style=\"padding: 4px;color:white;\"><b>4.B Gene Expression</b></p>\n",
    "</div>\n",
    "\n",
    "<a id=\"221\"></a><div style=\"color:white;display:fill;\n",
    "            background-color:#3bb2d6;font-size:150%;\">\n",
    "    <p style=\"padding: 4px;color:white;\"><b>4.B.a From Multiome</b></p>\n",
    "</div>\n",
    "\n",
    "<a id=\"221\"></a><div style=\"color:white;display:fill;\n",
    "            background-color:#3bb2d6;font-size:150%;\">\n",
    "    <p style=\"padding: 4px;color:white;\"><b>4.B.b From CITEseq</b></p>\n",
    "</div>\n",
    "\n",
    "<a id=\"43\"></a><div style=\"color:white;display:fill;\n",
    "            background-color:#3bb2d6;font-size:200%;\">\n",
    "    <p style=\"padding: 4px;color:white;\"><b>4.C Surface Protein Levels</b></p>\n",
    "</div>"
   ]
  },
  {
   "cell_type": "markdown",
   "metadata": {},
   "source": [
    "# 5 How to submit to competition <a id=\"5\"></a>"
   ]
  },
  {
   "cell_type": "markdown",
   "metadata": {},
   "source": [
    "# X Notes\n",
    "\n",
    "There are still some open questions in the text we need to address. \n",
    "\n",
    "* Correct Information about peaks in chromatin accessibility data\n",
    "* include memory information for each data frame\n",
    "* review ordering (single cell view, (metadata), data science centric view, kaggle specific data)\n",
    "* Add Data overview (size of Datasets)"
   ]
  }
 ],
 "metadata": {
  "kernelspec": {
   "display_name": "Python [conda env:msci]",
   "language": "python",
   "name": "conda-env-msci-py"
  },
  "language_info": {
   "codemirror_mode": {
    "name": "ipython",
    "version": 3
   },
   "file_extension": ".py",
   "mimetype": "text/x-python",
   "name": "python",
   "nbconvert_exporter": "python",
   "pygments_lexer": "ipython3",
   "version": "3.9.13"
  }
 },
 "nbformat": 4,
 "nbformat_minor": 4
}
