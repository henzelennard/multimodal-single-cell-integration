{
 "cells": [
  {
   "cell_type": "markdown",
   "id": "ab6e3231-9e16-49d3-bd9b-5e884f56695d",
   "metadata": {},
   "source": [
    "The size of the dataset was one issue I ran into while analyzing the competition data. Due to a memory shortage, it was difficult to compute several of the dataset's important properties. This notebook's objective is to compute a few features chunkwise and store those results as its output. These properties can then be included into models or used for EDA."
   ]
  },
  {
   "cell_type": "code",
   "execution_count": 1,
   "id": "b37a9e3b-58e8-4c4a-a213-12f4cd3ddfb0",
   "metadata": {},
   "outputs": [],
   "source": [
    "# sys imports\n",
    "import os\n",
    "from pathlib import Path\n",
    "import gc\n",
    "\n",
    "# data imports\n",
    "import h5py\n",
    "import hdf5plugin\n",
    "import numpy as np\n",
    "import pandas as pd"
   ]
  },
  {
   "cell_type": "markdown",
   "id": "ab729566-bd65-4778-bac2-ee977d09c3a0",
   "metadata": {},
   "source": [
    "We will use the GPU to speed up calculations by a factor of almost 5."
   ]
  },
  {
   "cell_type": "code",
   "execution_count": 2,
   "id": "5565dbe0-459c-49ec-908a-4b7d28bb2559",
   "metadata": {},
   "outputs": [
    {
     "data": {
      "text/plain": [
       "[PosixPath('../input/mmscel-data-transposed/test_multi_inputs.h5'),\n",
       " PosixPath('../input/mmscel-data-transposed/train_cite_targets.h5'),\n",
       " PosixPath('../input/mmscel-data-transposed/train_multi_inputs.h5'),\n",
       " PosixPath('../input/mmscel-data-transposed/train_cite_inputs.h5'),\n",
       " PosixPath('../input/mmscel-data-transposed/train_multi_targets.h5'),\n",
       " PosixPath('../input/mmscel-data-transposed/test_cite_inputs.h5')]"
      ]
     },
     "execution_count": 2,
     "metadata": {},
     "output_type": "execute_result"
    }
   ],
   "source": [
    "#create input file list\n",
    "f_list = list(Path('../input/mmscel-data-transposed/').glob('./*.h5'))\n",
    "f_list"
   ]
  },
  {
   "cell_type": "code",
   "execution_count": 3,
   "id": "0f91d4fe-6bbf-4ca1-a771-238fdadd5dd0",
   "metadata": {},
   "outputs": [
    {
     "data": {
      "text/plain": [
       "PosixPath('../output')"
      ]
     },
     "execution_count": 3,
     "metadata": {},
     "output_type": "execute_result"
    }
   ],
   "source": [
    "# define output directory\n",
    "out_dir = Path('../output/')\n",
    "out_dir"
   ]
  },
  {
   "cell_type": "code",
   "execution_count": 4,
   "id": "6ccad5b6-09c2-4c28-a6dd-911e39a42095",
   "metadata": {},
   "outputs": [
    {
     "name": "stdout",
     "output_type": "stream",
     "text": [
      "### OPERATING ON: ../input/mmscel-data-transposed/test_multi_inputs.h5 ###\n"
     ]
    },
    {
     "name": "stderr",
     "output_type": "stream",
     "text": [
      "/tmp/ipykernel_20406/1055110293.py:40: RuntimeWarning: Mean of empty slice.\n",
      "  target_features['mean_non_zero'][S_INDEX:E_INDEX] = data.mean(axis=1, where=(data>0))\n",
      "/home/len/miniconda3/envs/msci/lib/python3.9/site-packages/numpy/core/_methods.py:182: RuntimeWarning: invalid value encountered in divide\n",
      "  ret = um.true_divide(\n",
      "/home/len/miniconda3/envs/msci/lib/python3.9/site-packages/numpy/core/_methods.py:265: RuntimeWarning: Degrees of freedom <= 0 for slice\n",
      "  ret = _var(a, axis=axis, dtype=dtype, out=out, ddof=ddof,\n",
      "/home/len/miniconda3/envs/msci/lib/python3.9/site-packages/numpy/core/_methods.py:223: RuntimeWarning: invalid value encountered in divide\n",
      "  arrmean = um.true_divide(arrmean, div, out=arrmean, casting='unsafe',\n",
      "/home/len/miniconda3/envs/msci/lib/python3.9/site-packages/numpy/core/_methods.py:254: RuntimeWarning: invalid value encountered in divide\n",
      "  ret = um.true_divide(\n"
     ]
    },
    {
     "name": "stdout",
     "output_type": "stream",
     "text": [
      "### OPERATING ON: ../input/mmscel-data-transposed/train_cite_targets.h5 ###\n",
      "### OPERATING ON: ../input/mmscel-data-transposed/train_multi_inputs.h5 ###\n"
     ]
    },
    {
     "name": "stderr",
     "output_type": "stream",
     "text": [
      "/tmp/ipykernel_20406/1055110293.py:40: RuntimeWarning: Mean of empty slice.\n",
      "  target_features['mean_non_zero'][S_INDEX:E_INDEX] = data.mean(axis=1, where=(data>0))\n",
      "/home/len/miniconda3/envs/msci/lib/python3.9/site-packages/numpy/core/_methods.py:182: RuntimeWarning: invalid value encountered in divide\n",
      "  ret = um.true_divide(\n",
      "/home/len/miniconda3/envs/msci/lib/python3.9/site-packages/numpy/core/_methods.py:265: RuntimeWarning: Degrees of freedom <= 0 for slice\n",
      "  ret = _var(a, axis=axis, dtype=dtype, out=out, ddof=ddof,\n",
      "/home/len/miniconda3/envs/msci/lib/python3.9/site-packages/numpy/core/_methods.py:223: RuntimeWarning: invalid value encountered in divide\n",
      "  arrmean = um.true_divide(arrmean, div, out=arrmean, casting='unsafe',\n",
      "/home/len/miniconda3/envs/msci/lib/python3.9/site-packages/numpy/core/_methods.py:254: RuntimeWarning: invalid value encountered in divide\n",
      "  ret = um.true_divide(\n"
     ]
    },
    {
     "name": "stdout",
     "output_type": "stream",
     "text": [
      "### OPERATING ON: ../input/mmscel-data-transposed/train_cite_inputs.h5 ###\n"
     ]
    },
    {
     "name": "stderr",
     "output_type": "stream",
     "text": [
      "/tmp/ipykernel_20406/1055110293.py:40: RuntimeWarning: Mean of empty slice.\n",
      "  target_features['mean_non_zero'][S_INDEX:E_INDEX] = data.mean(axis=1, where=(data>0))\n",
      "/home/len/miniconda3/envs/msci/lib/python3.9/site-packages/numpy/core/_methods.py:182: RuntimeWarning: invalid value encountered in divide\n",
      "  ret = um.true_divide(\n",
      "/home/len/miniconda3/envs/msci/lib/python3.9/site-packages/numpy/core/_methods.py:265: RuntimeWarning: Degrees of freedom <= 0 for slice\n",
      "  ret = _var(a, axis=axis, dtype=dtype, out=out, ddof=ddof,\n",
      "/home/len/miniconda3/envs/msci/lib/python3.9/site-packages/numpy/core/_methods.py:223: RuntimeWarning: invalid value encountered in divide\n",
      "  arrmean = um.true_divide(arrmean, div, out=arrmean, casting='unsafe',\n",
      "/home/len/miniconda3/envs/msci/lib/python3.9/site-packages/numpy/core/_methods.py:254: RuntimeWarning: invalid value encountered in divide\n",
      "  ret = um.true_divide(\n"
     ]
    },
    {
     "name": "stdout",
     "output_type": "stream",
     "text": [
      "### OPERATING ON: ../input/mmscel-data-transposed/train_multi_targets.h5 ###\n"
     ]
    },
    {
     "name": "stderr",
     "output_type": "stream",
     "text": [
      "/tmp/ipykernel_20406/1055110293.py:40: RuntimeWarning: Mean of empty slice.\n",
      "  target_features['mean_non_zero'][S_INDEX:E_INDEX] = data.mean(axis=1, where=(data>0))\n",
      "/home/len/miniconda3/envs/msci/lib/python3.9/site-packages/numpy/core/_methods.py:182: RuntimeWarning: invalid value encountered in divide\n",
      "  ret = um.true_divide(\n",
      "/home/len/miniconda3/envs/msci/lib/python3.9/site-packages/numpy/core/_methods.py:265: RuntimeWarning: Degrees of freedom <= 0 for slice\n",
      "  ret = _var(a, axis=axis, dtype=dtype, out=out, ddof=ddof,\n",
      "/home/len/miniconda3/envs/msci/lib/python3.9/site-packages/numpy/core/_methods.py:223: RuntimeWarning: invalid value encountered in divide\n",
      "  arrmean = um.true_divide(arrmean, div, out=arrmean, casting='unsafe',\n",
      "/home/len/miniconda3/envs/msci/lib/python3.9/site-packages/numpy/core/_methods.py:254: RuntimeWarning: invalid value encountered in divide\n",
      "  ret = um.true_divide(\n"
     ]
    },
    {
     "name": "stdout",
     "output_type": "stream",
     "text": [
      "### OPERATING ON: ../input/mmscel-data-transposed/test_cite_inputs.h5 ###\n"
     ]
    },
    {
     "name": "stderr",
     "output_type": "stream",
     "text": [
      "/tmp/ipykernel_20406/1055110293.py:40: RuntimeWarning: Mean of empty slice.\n",
      "  target_features['mean_non_zero'][S_INDEX:E_INDEX] = data.mean(axis=1, where=(data>0))\n",
      "/home/len/miniconda3/envs/msci/lib/python3.9/site-packages/numpy/core/_methods.py:182: RuntimeWarning: invalid value encountered in divide\n",
      "  ret = um.true_divide(\n",
      "/home/len/miniconda3/envs/msci/lib/python3.9/site-packages/numpy/core/_methods.py:265: RuntimeWarning: Degrees of freedom <= 0 for slice\n",
      "  ret = _var(a, axis=axis, dtype=dtype, out=out, ddof=ddof,\n",
      "/home/len/miniconda3/envs/msci/lib/python3.9/site-packages/numpy/core/_methods.py:223: RuntimeWarning: invalid value encountered in divide\n",
      "  arrmean = um.true_divide(arrmean, div, out=arrmean, casting='unsafe',\n",
      "/home/len/miniconda3/envs/msci/lib/python3.9/site-packages/numpy/core/_methods.py:254: RuntimeWarning: invalid value encountered in divide\n",
      "  ret = um.true_divide(\n"
     ]
    }
   ],
   "source": [
    "for f_name in f_list:\n",
    "    print(f\"### OPERATING ON: {f_name} ###\")\n",
    "    \n",
    "    # Get properties of dataset\n",
    "    with h5py.File(f_name, 'r') as f:\n",
    "        cell_names = [a.decode('utf-8') for a in f['cells']]\n",
    "        feature_names = [a.decode('utf-8') for a in f['features']]\n",
    "        \n",
    "    num_features = len(feature_names)\n",
    "    num_cells = len(cell_names)\n",
    "    \n",
    "    batchsize = int(200_000_000 / (num_cells))\n",
    "    iterations = int(np.ceil(num_features/batchsize))\n",
    "    \n",
    "    # the features we want to calculate for every cell\n",
    "    target_features = {\n",
    "        'count_non_zero': np.zeros(num_features, dtype=np.int32),\n",
    "        'max_value': np.zeros(num_features, dtype=np.float64),\n",
    "        'min_value': np.zeros(num_features, dtype=np.float64),\n",
    "        'sum_values': np.zeros(num_features, dtype=np.float64),\n",
    "        'mean_non_zero': np.zeros(num_features, dtype=np.float64),\n",
    "        'std_dev_non_zero': np.zeros(num_features, dtype=np.float64),  \n",
    "    }\n",
    "    \n",
    "    # iterate over dataset calculating features\n",
    "    for i in range(iterations):\n",
    "        ###### SPECIFICATION WHAT DATA TO LOAD AND LOADING OF DATA ONTO DEVICE (CPU OR CUDA) #########\n",
    "        S_INDEX = i * batchsize\n",
    "        E_INDEX = (i+1) * batchsize\n",
    "\n",
    "        # load data and send to torch device\n",
    "        with h5py.File(f_name, 'r') as f:\n",
    "            data = np.array(f['values'][S_INDEX : E_INDEX])\n",
    "\n",
    "        ##### CALCULATION OF FEATURES #####\n",
    "        target_features['count_non_zero'][S_INDEX:E_INDEX] = (data > 0).sum(axis=1)\n",
    "        target_features['max_value'][S_INDEX:E_INDEX] = data.max(axis=1)\n",
    "        target_features['min_value'][S_INDEX:E_INDEX] = data.min(axis=1)\n",
    "        target_features['sum_values'][S_INDEX:E_INDEX] = data.sum(axis=1)\n",
    "        target_features['mean_non_zero'][S_INDEX:E_INDEX] = data.mean(axis=1, where=(data>0))\n",
    "        target_features['std_dev_non_zero'][S_INDEX:E_INDEX] = data.std(axis=1, where=(data>0))\n",
    "        # target_features['feature'][S_INDEX:E_INDEX] = \n",
    "    \n",
    "    # calculations done, define index, build dataframe and safe as csv\n",
    "    df = pd.DataFrame(data=target_features, index=feature_names)\n",
    "    df.to_csv(out_dir / (f_name.stem + '_features_feature.csv'))"
   ]
  }
 ],
 "metadata": {
  "kernelspec": {
   "display_name": "Python 3.9.13 ('msci')",
   "language": "python",
   "name": "python3"
  },
  "language_info": {
   "codemirror_mode": {
    "name": "ipython",
    "version": 3
   },
   "file_extension": ".py",
   "mimetype": "text/x-python",
   "name": "python",
   "nbconvert_exporter": "python",
   "pygments_lexer": "ipython3",
   "version": "3.9.13"
  },
  "vscode": {
   "interpreter": {
    "hash": "5cb4ca8ccfcfe324d33584d11e51148f513fa0b0885d93d2e6cf0d57a8268357"
   }
  }
 },
 "nbformat": 4,
 "nbformat_minor": 5
}
