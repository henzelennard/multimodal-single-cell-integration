{
 "cells": [
  {
   "cell_type": "markdown",
   "id": "08a333a7-7c43-41e3-9245-bf3b010dbf10",
   "metadata": {},
   "source": [
    "# DATA TRANSFORMATION SCRIPT\n",
    "The Data we have is arranged by cells. That means the features of a cell are consecutive in memory. If we want to look at multiple features of different cells this results in really long loading times. Since memory on hard drive is no huge concern we will create transposed datasets that allow fast access of features."
   ]
  },
  {
   "cell_type": "code",
   "execution_count": 1,
   "id": "56fbd065-3dc5-4e7c-93ca-49d128837dd8",
   "metadata": {},
   "outputs": [],
   "source": [
    "# imports\n",
    "# libs for reading and writing hdf5 files\n",
    "import h5py\n",
    "import hdf5plugin\n",
    "\n",
    "# libs for env and file handling\n",
    "import os\n",
    "from pathlib import Path\n",
    "\n",
    "# ceil function from numpy\n",
    "from numpy import ceil as ceil"
   ]
  },
  {
   "cell_type": "code",
   "execution_count": 2,
   "id": "c45db9cb-577b-4d79-a515-2e782bcd4f09",
   "metadata": {},
   "outputs": [
    {
     "data": {
      "text/plain": [
       "[PosixPath('/home/len/Data/Multimodal/source/test_multi_inputs.h5'),\n",
       " PosixPath('/home/len/Data/Multimodal/source/train_cite_targets.h5'),\n",
       " PosixPath('/home/len/Data/Multimodal/source/train_multi_inputs.h5'),\n",
       " PosixPath('/home/len/Data/Multimodal/source/train_cite_inputs.h5'),\n",
       " PosixPath('/home/len/Data/Multimodal/source/train_multi_targets.h5'),\n",
       " PosixPath('/home/len/Data/Multimodal/source/test_cite_inputs.h5')]"
      ]
     },
     "execution_count": 2,
     "metadata": {},
     "output_type": "execute_result"
    }
   ],
   "source": [
    "# read the data dir from the environment and create a list of files that should be transposed\n",
    "data_path = Path(os.environ['DATA_DIR'])\n",
    "\n",
    "source_files = list((data_path / 'source').glob('./*[!8].h5'))\n",
    "source_files"
   ]
  },
  {
   "cell_type": "code",
   "execution_count": 3,
   "id": "ab6157be-7279-4e27-8558-d0be424f4e07",
   "metadata": {},
   "outputs": [
    {
     "data": {
      "text/plain": [
       "PosixPath('/home/len/Data/Multimodal/transposed')"
      ]
     },
     "execution_count": 3,
     "metadata": {},
     "output_type": "execute_result"
    }
   ],
   "source": [
    "dest_path = data_path / 'transposed'\n",
    "dest_path"
   ]
  },
  {
   "cell_type": "code",
   "execution_count": 4,
   "id": "bcff77ea-12cf-43c7-93fe-b7ddeeca8e12",
   "metadata": {},
   "outputs": [
    {
     "name": "stdout",
     "output_type": "stream",
     "text": [
      "\n",
      " Input File: /home/len/Data/Multimodal/source/test_multi_inputs.h5\n",
      "Output File: /home/len/Data/Multimodal/transposed/test_multi_inputs.h5\n",
      "Starting Data Copy. Total iterations: 3\n",
      "\n",
      " Input File: /home/len/Data/Multimodal/source/train_cite_targets.h5\n",
      "Output File: /home/len/Data/Multimodal/transposed/train_cite_targets.h5\n",
      "Starting Data Copy. Total iterations: 1\n",
      "\n",
      " Input File: /home/len/Data/Multimodal/source/train_multi_inputs.h5\n",
      "Output File: /home/len/Data/Multimodal/transposed/train_multi_inputs.h5\n",
      "Starting Data Copy. Total iterations: 5\n",
      "\n",
      " Input File: /home/len/Data/Multimodal/source/train_cite_inputs.h5\n",
      "Output File: /home/len/Data/Multimodal/transposed/train_cite_inputs.h5\n",
      "Starting Data Copy. Total iterations: 1\n",
      "\n",
      " Input File: /home/len/Data/Multimodal/source/train_multi_targets.h5\n",
      "Output File: /home/len/Data/Multimodal/transposed/train_multi_targets.h5\n",
      "Starting Data Copy. Total iterations: 1\n",
      "\n",
      " Input File: /home/len/Data/Multimodal/source/test_cite_inputs.h5\n",
      "Output File: /home/len/Data/Multimodal/transposed/test_cite_inputs.h5\n",
      "Starting Data Copy. Total iterations: 1\n"
     ]
    }
   ],
   "source": [
    "# iterate over files to be transposed and create transposed counterpart\n",
    "for source_file in source_files:\n",
    "    print(f\"\\n Input File: {source_file}\")\n",
    "    \n",
    "    dest_file =  dest_path / source_file.name\n",
    "    print(f\"Output File: {dest_file}\")\n",
    "    \n",
    "    # copy index and columnnames\n",
    "    with h5py.File(source_file, 'r') as sf, h5py.File(dest_file, 'w') as df:\n",
    "        source_cells = sf[source_file.stem + '/axis1']\n",
    "        source_features = sf[source_file.stem + '/axis0']\n",
    "        \n",
    "        num_cells = source_cells.shape[0]\n",
    "        num_features = source_features.shape[0]\n",
    "        \n",
    "        dest_cells = df.create_dataset(\n",
    "            'cells', \n",
    "            shape=source_cells.shape, \n",
    "            dtype=source_cells.dtype, \n",
    "            compression=\"gzip\",\n",
    "        )\n",
    "        \n",
    "        dest_features = df.create_dataset(\n",
    "            'features',\n",
    "            shape=source_features.shape,\n",
    "            dtype=source_features.dtype,\n",
    "            compression=\"gzip\",\n",
    "        )\n",
    "        \n",
    "        dest_cells[:] = source_cells[:]\n",
    "        dest_features[:] = source_features[:]\n",
    "    \n",
    "    # iterate over old dataset\n",
    "    # we have 55GB ram availabl for the transformations, adjust to your ram\n",
    "    avail_ram_in_GB = 20\n",
    "    avail_ram_bytes = avail_ram_in_GB * 2**(3*10)\n",
    "    max_float_in_mem = int(avail_ram_bytes / 4)\n",
    "    \n",
    "    batchsize = int(ceil(max_float_in_mem / num_cells))\n",
    "    iterations = int(ceil(num_features / batchsize))\n",
    "\n",
    "    # create dataset\n",
    "    with h5py.File(source_file, 'r') as sf, h5py.File(dest_file, 'r+') as df:\n",
    "        source_data = sf[source_file.stem + '/block0_values']\n",
    "        \n",
    "        df.create_dataset(\n",
    "            'values', \n",
    "            shape=source_data.shape[::-1], \n",
    "            dtype=source_data.dtype,\n",
    "            compression=\"gzip\"\n",
    "        )\n",
    "    \n",
    "    print(f\"Starting Data Copy. Total iterations: {iterations}\")\n",
    "    for i in range(iterations):\n",
    "        # create dataset objects\n",
    "        s_index = i * batchsize\n",
    "        e_index = (i+1) * batchsize\n",
    "    \n",
    "        with h5py.File(source_file, 'r') as sf, h5py.File(dest_file, 'r+') as df:\n",
    "            df['/values'][s_index: e_index, :] = (sf[source_file.stem + '/block0_values'][:, s_index: e_index]).T"
   ]
  }
 ],
 "metadata": {
  "kernelspec": {
   "display_name": "Python [conda env:msci]",
   "language": "python",
   "name": "conda-env-msci-py"
  },
  "language_info": {
   "codemirror_mode": {
    "name": "ipython",
    "version": 3
   },
   "file_extension": ".py",
   "mimetype": "text/x-python",
   "name": "python",
   "nbconvert_exporter": "python",
   "pygments_lexer": "ipython3",
   "version": "3.9.13"
  }
 },
 "nbformat": 4,
 "nbformat_minor": 5
}
